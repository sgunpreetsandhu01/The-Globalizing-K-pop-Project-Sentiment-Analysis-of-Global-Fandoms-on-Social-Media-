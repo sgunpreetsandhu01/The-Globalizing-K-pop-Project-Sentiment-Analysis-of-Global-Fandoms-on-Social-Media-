{
  "cells": [
    {
      "cell_type": "code",
      "execution_count": null,
      "metadata": {
        "id": "54wQVmViRY5R"
      },
      "outputs": [],
      "source": [
        "import pandas as pd\n",
        "import numpy as np\n",
        "import nltk\n",
        "import matplotlib.pyplot as plt\n",
        "import seaborn as sns"
      ]
    },
    {
      "cell_type": "code",
      "execution_count": null,
      "metadata": {
        "colab": {
          "base_uri": "https://localhost:8080/"
        },
        "id": "de8NOfzDRY5U",
        "outputId": "97a58a34-420e-4e55-ebf7-2f574d7d0937"
      },
      "outputs": [
        {
          "output_type": "stream",
          "name": "stdout",
          "text": [
            "Collecting voyageai\n",
            "  Downloading voyageai-0.2.3-py3-none-any.whl.metadata (2.6 kB)\n",
            "Requirement already satisfied: aiohttp<4.0,>=3.5 in /usr/local/lib/python3.10/dist-packages (from voyageai) (3.10.0)\n",
            "Collecting aiolimiter<2.0.0,>=1.1.0 (from voyageai)\n",
            "  Downloading aiolimiter-1.1.0-py3-none-any.whl.metadata (4.5 kB)\n",
            "Requirement already satisfied: numpy>=1.11 in /usr/local/lib/python3.10/dist-packages (from voyageai) (1.26.4)\n",
            "Requirement already satisfied: requests<3.0,>=2.20 in /usr/local/lib/python3.10/dist-packages (from voyageai) (2.31.0)\n",
            "Requirement already satisfied: tenacity>=8.0.1 in /usr/local/lib/python3.10/dist-packages (from voyageai) (9.0.0)\n",
            "Requirement already satisfied: aiohappyeyeballs>=2.3.0 in /usr/local/lib/python3.10/dist-packages (from aiohttp<4.0,>=3.5->voyageai) (2.3.4)\n",
            "Requirement already satisfied: aiosignal>=1.1.2 in /usr/local/lib/python3.10/dist-packages (from aiohttp<4.0,>=3.5->voyageai) (1.3.1)\n",
            "Requirement already satisfied: attrs>=17.3.0 in /usr/local/lib/python3.10/dist-packages (from aiohttp<4.0,>=3.5->voyageai) (23.2.0)\n",
            "Requirement already satisfied: frozenlist>=1.1.1 in /usr/local/lib/python3.10/dist-packages (from aiohttp<4.0,>=3.5->voyageai) (1.4.1)\n",
            "Requirement already satisfied: multidict<7.0,>=4.5 in /usr/local/lib/python3.10/dist-packages (from aiohttp<4.0,>=3.5->voyageai) (6.0.5)\n",
            "Requirement already satisfied: yarl<2.0,>=1.0 in /usr/local/lib/python3.10/dist-packages (from aiohttp<4.0,>=3.5->voyageai) (1.9.4)\n",
            "Requirement already satisfied: async-timeout<5.0,>=4.0 in /usr/local/lib/python3.10/dist-packages (from aiohttp<4.0,>=3.5->voyageai) (4.0.3)\n",
            "Requirement already satisfied: charset-normalizer<4,>=2 in /usr/local/lib/python3.10/dist-packages (from requests<3.0,>=2.20->voyageai) (3.3.2)\n",
            "Requirement already satisfied: idna<4,>=2.5 in /usr/local/lib/python3.10/dist-packages (from requests<3.0,>=2.20->voyageai) (3.7)\n",
            "Requirement already satisfied: urllib3<3,>=1.21.1 in /usr/local/lib/python3.10/dist-packages (from requests<3.0,>=2.20->voyageai) (2.0.7)\n",
            "Requirement already satisfied: certifi>=2017.4.17 in /usr/local/lib/python3.10/dist-packages (from requests<3.0,>=2.20->voyageai) (2024.7.4)\n",
            "Downloading voyageai-0.2.3-py3-none-any.whl (19 kB)\n",
            "Downloading aiolimiter-1.1.0-py3-none-any.whl (7.2 kB)\n",
            "Installing collected packages: aiolimiter, voyageai\n",
            "Successfully installed aiolimiter-1.1.0 voyageai-0.2.3\n"
          ]
        }
      ],
      "source": [
        "!pip install voyageai"
      ]
    },
    {
      "cell_type": "code",
      "execution_count": null,
      "metadata": {
        "id": "5x6u8gMcRY5W"
      },
      "outputs": [],
      "source": [
        "sf9_df = pd.read_csv('/content/sf9-preprocessed_df (1).csv')"
      ]
    },
    {
      "cell_type": "code",
      "execution_count": null,
      "metadata": {
        "colab": {
          "base_uri": "https://localhost:8080/"
        },
        "id": "DRit3zLxRY5W",
        "outputId": "a5231b94-1f84-46f4-c987-27e7ae70fe1f"
      },
      "outputs": [
        {
          "output_type": "execute_result",
          "data": {
            "text/plain": [
              "(141, 6)"
            ]
          },
          "metadata": {},
          "execution_count": 5
        }
      ],
      "source": [
        "sf9_df.shape"
      ]
    },
    {
      "cell_type": "code",
      "execution_count": null,
      "metadata": {
        "colab": {
          "base_uri": "https://localhost:8080/",
          "height": 753
        },
        "id": "h5rN1HntRY5X",
        "outputId": "bfd1c8c4-1604-42a6-cc4e-3b73e950a5f3"
      },
      "outputs": [
        {
          "output_type": "execute_result",
          "data": {
            "text/plain": [
              "         conversation_id                                               text  \\\n",
              "0    1658489916412801024  Fantasy friends plz help me to find the nicest...   \n",
              "1    1658831414291226624  praying that kflex london has an amazing lineu...   \n",
              "2    1658872268708265984  im already tired but still need to stay up to ...   \n",
              "3    1658916239949930553  I will probably delete this tweet later but I ...   \n",
              "4    1659090060279529472  everyone pray for my accounting tmrw...1139746...   \n",
              "..                   ...                                                ...   \n",
              "136  1668938763660152832  HELP I AM NOT OKAY OMG https://t.co/n3KW0UTznp...   \n",
              "137  1668946145366908929  down and disheartened by things today, but i m...   \n",
              "138  1669050662460735488  You just have a problem with EVERYTHING. Like ...   \n",
              "139  1669224770993537032  my whole fyp is changmin help am i entering my...   \n",
              "140  1669249114150690819  I  just  logged  into  Finch  on  a  save  fil...   \n",
              "\n",
              "     reply_count                                        first_tweet  \\\n",
              "0              2  Fantasy friends plz help me to find the nicest...   \n",
              "1              1  praying that kflex london has an amazing lineu...   \n",
              "2              1  im already tired but still need to stay up to ...   \n",
              "3              1  I will probably delete this tweet later but I ...   \n",
              "4              5               everyone pray for my accounting tmrw   \n",
              "..           ...                                                ...   \n",
              "136            8     HELP I AM NOT OKAY OMG https://t.co/n3KW0UTznp   \n",
              "137           16  down and disheartened by things today, but i m...   \n",
              "138            4  You just have a problem with EVERYTHING. Like ...   \n",
              "139            4  my whole fyp is changmin help am i entering my...   \n",
              "140            2  I  just  logged  into  Finch  on  a  save  fil...   \n",
              "\n",
              "                                                  Text  \\\n",
              "0    ['fantasy', 'friend', 'plz', 'help', 'find', '...   \n",
              "1    ['praying', 'kflex', 'london', 'amazing', 'lin...   \n",
              "2    ['already', 'tired', 'still', 'need', 'stay', ...   \n",
              "3    ['will', 'probably', 'delete', 'tweet', 'later...   \n",
              "4    ['everyone', 'pray', 'accounting', 'tmrw', 'aw...   \n",
              "..                                                 ...   \n",
              "136  ['help', 'okay', 'omg', 'link', 'best', 'way',...   \n",
              "137  ['disheartened', 'thing', 'today', 'made', 'al...   \n",
              "138  ['just', 'problem', 'everything', 'like', 'dam...   \n",
              "139  ['whole', 'fyp', 'changmin', 'help', 'entering...   \n",
              "140  ['just', 'logged', 'finch', 'save', 'file', 'l...   \n",
              "\n",
              "                                          cleaned_text  \n",
              "0    fantasy friend plz help find nicest full body ...  \n",
              "1    praying kflex london amazing lineup just like ...  \n",
              "2    already tired still need stay assignment help ...  \n",
              "3    will probably delete tweet later just got inte...  \n",
              "4    everyone pray accounting tmrw aww thank bff ri...  \n",
              "..                                                 ...  \n",
              "136  help okay omg link best way start day woke muc...  \n",
              "137  disheartened thing today made also spending wo...  \n",
              "138  just problem everything like damn give rest ca...  \n",
              "139  whole fyp changmin help entering changmin era ...  \n",
              "140  just logged finch save file lost everything go...  \n",
              "\n",
              "[141 rows x 6 columns]"
            ],
            "text/html": [
              "\n",
              "  <div id=\"df-5f3e1ce7-e2e4-4d8c-ac78-01d7ecd25acf\" class=\"colab-df-container\">\n",
              "    <div>\n",
              "<style scoped>\n",
              "    .dataframe tbody tr th:only-of-type {\n",
              "        vertical-align: middle;\n",
              "    }\n",
              "\n",
              "    .dataframe tbody tr th {\n",
              "        vertical-align: top;\n",
              "    }\n",
              "\n",
              "    .dataframe thead th {\n",
              "        text-align: right;\n",
              "    }\n",
              "</style>\n",
              "<table border=\"1\" class=\"dataframe\">\n",
              "  <thead>\n",
              "    <tr style=\"text-align: right;\">\n",
              "      <th></th>\n",
              "      <th>conversation_id</th>\n",
              "      <th>text</th>\n",
              "      <th>reply_count</th>\n",
              "      <th>first_tweet</th>\n",
              "      <th>Text</th>\n",
              "      <th>cleaned_text</th>\n",
              "    </tr>\n",
              "  </thead>\n",
              "  <tbody>\n",
              "    <tr>\n",
              "      <th>0</th>\n",
              "      <td>1658489916412801024</td>\n",
              "      <td>Fantasy friends plz help me to find the nicest...</td>\n",
              "      <td>2</td>\n",
              "      <td>Fantasy friends plz help me to find the nicest...</td>\n",
              "      <td>['fantasy', 'friend', 'plz', 'help', 'find', '...</td>\n",
              "      <td>fantasy friend plz help find nicest full body ...</td>\n",
              "    </tr>\n",
              "    <tr>\n",
              "      <th>1</th>\n",
              "      <td>1658831414291226624</td>\n",
              "      <td>praying that kflex london has an amazing lineu...</td>\n",
              "      <td>1</td>\n",
              "      <td>praying that kflex london has an amazing lineu...</td>\n",
              "      <td>['praying', 'kflex', 'london', 'amazing', 'lin...</td>\n",
              "      <td>praying kflex london amazing lineup just like ...</td>\n",
              "    </tr>\n",
              "    <tr>\n",
              "      <th>2</th>\n",
              "      <td>1658872268708265984</td>\n",
              "      <td>im already tired but still need to stay up to ...</td>\n",
              "      <td>1</td>\n",
              "      <td>im already tired but still need to stay up to ...</td>\n",
              "      <td>['already', 'tired', 'still', 'need', 'stay', ...</td>\n",
              "      <td>already tired still need stay assignment help ...</td>\n",
              "    </tr>\n",
              "    <tr>\n",
              "      <th>3</th>\n",
              "      <td>1658916239949930553</td>\n",
              "      <td>I will probably delete this tweet later but I ...</td>\n",
              "      <td>1</td>\n",
              "      <td>I will probably delete this tweet later but I ...</td>\n",
              "      <td>['will', 'probably', 'delete', 'tweet', 'later...</td>\n",
              "      <td>will probably delete tweet later just got inte...</td>\n",
              "    </tr>\n",
              "    <tr>\n",
              "      <th>4</th>\n",
              "      <td>1659090060279529472</td>\n",
              "      <td>everyone pray for my accounting tmrw...1139746...</td>\n",
              "      <td>5</td>\n",
              "      <td>everyone pray for my accounting tmrw</td>\n",
              "      <td>['everyone', 'pray', 'accounting', 'tmrw', 'aw...</td>\n",
              "      <td>everyone pray accounting tmrw aww thank bff ri...</td>\n",
              "    </tr>\n",
              "    <tr>\n",
              "      <th>...</th>\n",
              "      <td>...</td>\n",
              "      <td>...</td>\n",
              "      <td>...</td>\n",
              "      <td>...</td>\n",
              "      <td>...</td>\n",
              "      <td>...</td>\n",
              "    </tr>\n",
              "    <tr>\n",
              "      <th>136</th>\n",
              "      <td>1668938763660152832</td>\n",
              "      <td>HELP I AM NOT OKAY OMG https://t.co/n3KW0UTznp...</td>\n",
              "      <td>8</td>\n",
              "      <td>HELP I AM NOT OKAY OMG https://t.co/n3KW0UTznp</td>\n",
              "      <td>['help', 'okay', 'omg', 'link', 'best', 'way',...</td>\n",
              "      <td>help okay omg link best way start day woke muc...</td>\n",
              "    </tr>\n",
              "    <tr>\n",
              "      <th>137</th>\n",
              "      <td>1668946145366908929</td>\n",
              "      <td>down and disheartened by things today, but i m...</td>\n",
              "      <td>16</td>\n",
              "      <td>down and disheartened by things today, but i m...</td>\n",
              "      <td>['disheartened', 'thing', 'today', 'made', 'al...</td>\n",
              "      <td>disheartened thing today made also spending wo...</td>\n",
              "    </tr>\n",
              "    <tr>\n",
              "      <th>138</th>\n",
              "      <td>1669050662460735488</td>\n",
              "      <td>You just have a problem with EVERYTHING. Like ...</td>\n",
              "      <td>4</td>\n",
              "      <td>You just have a problem with EVERYTHING. Like ...</td>\n",
              "      <td>['just', 'problem', 'everything', 'like', 'dam...</td>\n",
              "      <td>just problem everything like damn give rest ca...</td>\n",
              "    </tr>\n",
              "    <tr>\n",
              "      <th>139</th>\n",
              "      <td>1669224770993537032</td>\n",
              "      <td>my whole fyp is changmin help am i entering my...</td>\n",
              "      <td>4</td>\n",
              "      <td>my whole fyp is changmin help am i entering my...</td>\n",
              "      <td>['whole', 'fyp', 'changmin', 'help', 'entering...</td>\n",
              "      <td>whole fyp changmin help entering changmin era ...</td>\n",
              "    </tr>\n",
              "    <tr>\n",
              "      <th>140</th>\n",
              "      <td>1669249114150690819</td>\n",
              "      <td>I  just  logged  into  Finch  on  a  save  fil...</td>\n",
              "      <td>2</td>\n",
              "      <td>I  just  logged  into  Finch  on  a  save  fil...</td>\n",
              "      <td>['just', 'logged', 'finch', 'save', 'file', 'l...</td>\n",
              "      <td>just logged finch save file lost everything go...</td>\n",
              "    </tr>\n",
              "  </tbody>\n",
              "</table>\n",
              "<p>141 rows × 6 columns</p>\n",
              "</div>\n",
              "    <div class=\"colab-df-buttons\">\n",
              "\n",
              "  <div class=\"colab-df-container\">\n",
              "    <button class=\"colab-df-convert\" onclick=\"convertToInteractive('df-5f3e1ce7-e2e4-4d8c-ac78-01d7ecd25acf')\"\n",
              "            title=\"Convert this dataframe to an interactive table.\"\n",
              "            style=\"display:none;\">\n",
              "\n",
              "  <svg xmlns=\"http://www.w3.org/2000/svg\" height=\"24px\" viewBox=\"0 -960 960 960\">\n",
              "    <path d=\"M120-120v-720h720v720H120Zm60-500h600v-160H180v160Zm220 220h160v-160H400v160Zm0 220h160v-160H400v160ZM180-400h160v-160H180v160Zm440 0h160v-160H620v160ZM180-180h160v-160H180v160Zm440 0h160v-160H620v160Z\"/>\n",
              "  </svg>\n",
              "    </button>\n",
              "\n",
              "  <style>\n",
              "    .colab-df-container {\n",
              "      display:flex;\n",
              "      gap: 12px;\n",
              "    }\n",
              "\n",
              "    .colab-df-convert {\n",
              "      background-color: #E8F0FE;\n",
              "      border: none;\n",
              "      border-radius: 50%;\n",
              "      cursor: pointer;\n",
              "      display: none;\n",
              "      fill: #1967D2;\n",
              "      height: 32px;\n",
              "      padding: 0 0 0 0;\n",
              "      width: 32px;\n",
              "    }\n",
              "\n",
              "    .colab-df-convert:hover {\n",
              "      background-color: #E2EBFA;\n",
              "      box-shadow: 0px 1px 2px rgba(60, 64, 67, 0.3), 0px 1px 3px 1px rgba(60, 64, 67, 0.15);\n",
              "      fill: #174EA6;\n",
              "    }\n",
              "\n",
              "    .colab-df-buttons div {\n",
              "      margin-bottom: 4px;\n",
              "    }\n",
              "\n",
              "    [theme=dark] .colab-df-convert {\n",
              "      background-color: #3B4455;\n",
              "      fill: #D2E3FC;\n",
              "    }\n",
              "\n",
              "    [theme=dark] .colab-df-convert:hover {\n",
              "      background-color: #434B5C;\n",
              "      box-shadow: 0px 1px 3px 1px rgba(0, 0, 0, 0.15);\n",
              "      filter: drop-shadow(0px 1px 2px rgba(0, 0, 0, 0.3));\n",
              "      fill: #FFFFFF;\n",
              "    }\n",
              "  </style>\n",
              "\n",
              "    <script>\n",
              "      const buttonEl =\n",
              "        document.querySelector('#df-5f3e1ce7-e2e4-4d8c-ac78-01d7ecd25acf button.colab-df-convert');\n",
              "      buttonEl.style.display =\n",
              "        google.colab.kernel.accessAllowed ? 'block' : 'none';\n",
              "\n",
              "      async function convertToInteractive(key) {\n",
              "        const element = document.querySelector('#df-5f3e1ce7-e2e4-4d8c-ac78-01d7ecd25acf');\n",
              "        const dataTable =\n",
              "          await google.colab.kernel.invokeFunction('convertToInteractive',\n",
              "                                                    [key], {});\n",
              "        if (!dataTable) return;\n",
              "\n",
              "        const docLinkHtml = 'Like what you see? Visit the ' +\n",
              "          '<a target=\"_blank\" href=https://colab.research.google.com/notebooks/data_table.ipynb>data table notebook</a>'\n",
              "          + ' to learn more about interactive tables.';\n",
              "        element.innerHTML = '';\n",
              "        dataTable['output_type'] = 'display_data';\n",
              "        await google.colab.output.renderOutput(dataTable, element);\n",
              "        const docLink = document.createElement('div');\n",
              "        docLink.innerHTML = docLinkHtml;\n",
              "        element.appendChild(docLink);\n",
              "      }\n",
              "    </script>\n",
              "  </div>\n",
              "\n",
              "\n",
              "<div id=\"df-428a70e2-4876-481f-a713-fc2e67527ad8\">\n",
              "  <button class=\"colab-df-quickchart\" onclick=\"quickchart('df-428a70e2-4876-481f-a713-fc2e67527ad8')\"\n",
              "            title=\"Suggest charts\"\n",
              "            style=\"display:none;\">\n",
              "\n",
              "<svg xmlns=\"http://www.w3.org/2000/svg\" height=\"24px\"viewBox=\"0 0 24 24\"\n",
              "     width=\"24px\">\n",
              "    <g>\n",
              "        <path d=\"M19 3H5c-1.1 0-2 .9-2 2v14c0 1.1.9 2 2 2h14c1.1 0 2-.9 2-2V5c0-1.1-.9-2-2-2zM9 17H7v-7h2v7zm4 0h-2V7h2v10zm4 0h-2v-4h2v4z\"/>\n",
              "    </g>\n",
              "</svg>\n",
              "  </button>\n",
              "\n",
              "<style>\n",
              "  .colab-df-quickchart {\n",
              "      --bg-color: #E8F0FE;\n",
              "      --fill-color: #1967D2;\n",
              "      --hover-bg-color: #E2EBFA;\n",
              "      --hover-fill-color: #174EA6;\n",
              "      --disabled-fill-color: #AAA;\n",
              "      --disabled-bg-color: #DDD;\n",
              "  }\n",
              "\n",
              "  [theme=dark] .colab-df-quickchart {\n",
              "      --bg-color: #3B4455;\n",
              "      --fill-color: #D2E3FC;\n",
              "      --hover-bg-color: #434B5C;\n",
              "      --hover-fill-color: #FFFFFF;\n",
              "      --disabled-bg-color: #3B4455;\n",
              "      --disabled-fill-color: #666;\n",
              "  }\n",
              "\n",
              "  .colab-df-quickchart {\n",
              "    background-color: var(--bg-color);\n",
              "    border: none;\n",
              "    border-radius: 50%;\n",
              "    cursor: pointer;\n",
              "    display: none;\n",
              "    fill: var(--fill-color);\n",
              "    height: 32px;\n",
              "    padding: 0;\n",
              "    width: 32px;\n",
              "  }\n",
              "\n",
              "  .colab-df-quickchart:hover {\n",
              "    background-color: var(--hover-bg-color);\n",
              "    box-shadow: 0 1px 2px rgba(60, 64, 67, 0.3), 0 1px 3px 1px rgba(60, 64, 67, 0.15);\n",
              "    fill: var(--button-hover-fill-color);\n",
              "  }\n",
              "\n",
              "  .colab-df-quickchart-complete:disabled,\n",
              "  .colab-df-quickchart-complete:disabled:hover {\n",
              "    background-color: var(--disabled-bg-color);\n",
              "    fill: var(--disabled-fill-color);\n",
              "    box-shadow: none;\n",
              "  }\n",
              "\n",
              "  .colab-df-spinner {\n",
              "    border: 2px solid var(--fill-color);\n",
              "    border-color: transparent;\n",
              "    border-bottom-color: var(--fill-color);\n",
              "    animation:\n",
              "      spin 1s steps(1) infinite;\n",
              "  }\n",
              "\n",
              "  @keyframes spin {\n",
              "    0% {\n",
              "      border-color: transparent;\n",
              "      border-bottom-color: var(--fill-color);\n",
              "      border-left-color: var(--fill-color);\n",
              "    }\n",
              "    20% {\n",
              "      border-color: transparent;\n",
              "      border-left-color: var(--fill-color);\n",
              "      border-top-color: var(--fill-color);\n",
              "    }\n",
              "    30% {\n",
              "      border-color: transparent;\n",
              "      border-left-color: var(--fill-color);\n",
              "      border-top-color: var(--fill-color);\n",
              "      border-right-color: var(--fill-color);\n",
              "    }\n",
              "    40% {\n",
              "      border-color: transparent;\n",
              "      border-right-color: var(--fill-color);\n",
              "      border-top-color: var(--fill-color);\n",
              "    }\n",
              "    60% {\n",
              "      border-color: transparent;\n",
              "      border-right-color: var(--fill-color);\n",
              "    }\n",
              "    80% {\n",
              "      border-color: transparent;\n",
              "      border-right-color: var(--fill-color);\n",
              "      border-bottom-color: var(--fill-color);\n",
              "    }\n",
              "    90% {\n",
              "      border-color: transparent;\n",
              "      border-bottom-color: var(--fill-color);\n",
              "    }\n",
              "  }\n",
              "</style>\n",
              "\n",
              "  <script>\n",
              "    async function quickchart(key) {\n",
              "      const quickchartButtonEl =\n",
              "        document.querySelector('#' + key + ' button');\n",
              "      quickchartButtonEl.disabled = true;  // To prevent multiple clicks.\n",
              "      quickchartButtonEl.classList.add('colab-df-spinner');\n",
              "      try {\n",
              "        const charts = await google.colab.kernel.invokeFunction(\n",
              "            'suggestCharts', [key], {});\n",
              "      } catch (error) {\n",
              "        console.error('Error during call to suggestCharts:', error);\n",
              "      }\n",
              "      quickchartButtonEl.classList.remove('colab-df-spinner');\n",
              "      quickchartButtonEl.classList.add('colab-df-quickchart-complete');\n",
              "    }\n",
              "    (() => {\n",
              "      let quickchartButtonEl =\n",
              "        document.querySelector('#df-428a70e2-4876-481f-a713-fc2e67527ad8 button');\n",
              "      quickchartButtonEl.style.display =\n",
              "        google.colab.kernel.accessAllowed ? 'block' : 'none';\n",
              "    })();\n",
              "  </script>\n",
              "</div>\n",
              "\n",
              "  <div id=\"id_54fff79d-0b19-4076-8a3f-9e2a4c45a69c\">\n",
              "    <style>\n",
              "      .colab-df-generate {\n",
              "        background-color: #E8F0FE;\n",
              "        border: none;\n",
              "        border-radius: 50%;\n",
              "        cursor: pointer;\n",
              "        display: none;\n",
              "        fill: #1967D2;\n",
              "        height: 32px;\n",
              "        padding: 0 0 0 0;\n",
              "        width: 32px;\n",
              "      }\n",
              "\n",
              "      .colab-df-generate:hover {\n",
              "        background-color: #E2EBFA;\n",
              "        box-shadow: 0px 1px 2px rgba(60, 64, 67, 0.3), 0px 1px 3px 1px rgba(60, 64, 67, 0.15);\n",
              "        fill: #174EA6;\n",
              "      }\n",
              "\n",
              "      [theme=dark] .colab-df-generate {\n",
              "        background-color: #3B4455;\n",
              "        fill: #D2E3FC;\n",
              "      }\n",
              "\n",
              "      [theme=dark] .colab-df-generate:hover {\n",
              "        background-color: #434B5C;\n",
              "        box-shadow: 0px 1px 3px 1px rgba(0, 0, 0, 0.15);\n",
              "        filter: drop-shadow(0px 1px 2px rgba(0, 0, 0, 0.3));\n",
              "        fill: #FFFFFF;\n",
              "      }\n",
              "    </style>\n",
              "    <button class=\"colab-df-generate\" onclick=\"generateWithVariable('sf9_df')\"\n",
              "            title=\"Generate code using this dataframe.\"\n",
              "            style=\"display:none;\">\n",
              "\n",
              "  <svg xmlns=\"http://www.w3.org/2000/svg\" height=\"24px\"viewBox=\"0 0 24 24\"\n",
              "       width=\"24px\">\n",
              "    <path d=\"M7,19H8.4L18.45,9,17,7.55,7,17.6ZM5,21V16.75L18.45,3.32a2,2,0,0,1,2.83,0l1.4,1.43a1.91,1.91,0,0,1,.58,1.4,1.91,1.91,0,0,1-.58,1.4L9.25,21ZM18.45,9,17,7.55Zm-12,3A5.31,5.31,0,0,0,4.9,8.1,5.31,5.31,0,0,0,1,6.5,5.31,5.31,0,0,0,4.9,4.9,5.31,5.31,0,0,0,6.5,1,5.31,5.31,0,0,0,8.1,4.9,5.31,5.31,0,0,0,12,6.5,5.46,5.46,0,0,0,6.5,12Z\"/>\n",
              "  </svg>\n",
              "    </button>\n",
              "    <script>\n",
              "      (() => {\n",
              "      const buttonEl =\n",
              "        document.querySelector('#id_54fff79d-0b19-4076-8a3f-9e2a4c45a69c button.colab-df-generate');\n",
              "      buttonEl.style.display =\n",
              "        google.colab.kernel.accessAllowed ? 'block' : 'none';\n",
              "\n",
              "      buttonEl.onclick = () => {\n",
              "        google.colab.notebook.generateWithVariable('sf9_df');\n",
              "      }\n",
              "      })();\n",
              "    </script>\n",
              "  </div>\n",
              "\n",
              "    </div>\n",
              "  </div>\n"
            ],
            "application/vnd.google.colaboratory.intrinsic+json": {
              "type": "dataframe",
              "variable_name": "sf9_df",
              "summary": "{\n  \"name\": \"sf9_df\",\n  \"rows\": 141,\n  \"fields\": [\n    {\n      \"column\": \"conversation_id\",\n      \"properties\": {\n        \"dtype\": \"number\",\n        \"std\": 3080638518525367,\n        \"min\": 1658489916412801024,\n        \"max\": 1669249114150690819,\n        \"num_unique_values\": 141,\n        \"samples\": [\n          1663994269718269954,\n          1666930231981101057,\n          1661365042506506240\n        ],\n        \"semantic_type\": \"\",\n        \"description\": \"\"\n      }\n    },\n    {\n      \"column\": \"text\",\n      \"properties\": {\n        \"dtype\": \"string\",\n        \"num_unique_values\": 141,\n        \"samples\": [\n          \"Thinking that Kflex being postponed is not actually the worst for me because this way I might be able to plan things well and get a tattoo with the Frankfurt based artist I really love that same weekend...1338094197816127489- @GosiauxKimmy Omg SO PRETTY!!! This is the one I got with Suya last year. I'm still brainstorming a couple of ideas for the new one \\ud83d\\ude02 https://t.co/onCZQDMqKD...831117082859298817- @2seung_ya Please share your design when you get  it done because suyas work is just *cheffs kiss* \\ud83d\\ude17\\ud83d\\udc4c https://t.co/ODOJun8WgX...1338094197816127489- @GosiauxKimmy her work is truly amazing! and ahh you're going to Korea! that's even more exciting \\ud83e\\udd7a But yeah, if I'm going to go to another country to get a tattoo (not that I'm complaining \\ud83d\\ude02)  I  might as well make the most of it...1338094197816127489- @kookfie_ 100% agree. At this point, they either have an amazing lineup and have everything go perfectly the day of the festival or they are over. They can't just push things back with the excuse that they offer refunds when people have already bought plane tickets, booked hotels etc...831117082859298817- @2seung_ya I got 2! By nos and getting a 3rd in korea in her studio. Support nos\\ud83e\\udef6 \\nBut honestly just so it like you said, you are there anyway \\ud83d\\udc40...1338094197816127489- @GosiauxKimmy I might just go ahead and do it cause if I'm going to Frankfurt it's like killing two births with one stone, but I need to save up first \\ud83d\\ude02 and OMG YOU GOT A TATTOO BY NOS!! the line work is absolutely amazing...831117082859298817- @2seung_ya Omg yes suya is also a big fat yes. \\nNot jut she guests in brussels sometimes and I met her there when I got tattood by nos kim \\ud83e\\udd2d...1146500022722318337- @2seung_ya tbh kflex is kinda making fools of themselves atp like more and more people really don\\u2019t wanna go anymore and if it keeps going like this I feel like they will need a wonder and a really crazy comeback to ever survive atp till the october dates \\ud83d\\ude2d\\ud83d\\ude2d\\ud83d\\ude2d...1338094197816127489- @GosiauxKimmy No, it's an artist called Suya. But I've been following Bora for a while and the painting strip tattoos she does are so pretty, can't say I'm not tempted \\ud83d\\udc40 did you get tattooed by her?...831117082859298817- @2seung_ya is it bora because if it's bora do it...1338094197816127489- Thoughts are being thought\",\n          \"rating my vape flavors bc i dont have anything better to do (this will be an ongoing thread btw)...1427930288760496129- @hcneyhi bc if i smell like cigs imma be dead...1147931352160985089- @PLUTOYUTA ney why tf do u smoke flavoured air....1427930288760496129- @iBreakSouls idk if i have that flavor...1427930288760496129- @JUTAEDO BUT I ALREADY HAVE SOME LIQUID https://t.co/jMxqzUpXbM...1229111749200240643- @PLUTOYUTA never ever try bilberry it was so bad i was like wtf \\ud83d\\ude2d...1427930288760496129- watermelon lemon \\ud83c\\udf49\\ud83c\\udf4b\\n10/10\\ntastes good, will be buying again...1427930288760496129- strawberry kiwi \\ud83c\\udf53 \\ud83e\\udd5d\\n6/10\\nmid, wouldn't crave it but i don't mind it either...1427930288760496129- pineapple coconut \\ud83c\\udf4d\\ud83e\\udd65\\n4/10\\ntaste like white red bull, wouldn't buy it again\",\n          \"FNC should start selling SF9 merch like umbrellas, pain relievers, massagers or maybe even cooking utensils. Like man, we're getting old. CHAROT!...2371945098- @Annetteskrrrt28 Trueee\\ud83d\\ude02...2371945098- @Annetteskrrrt28 I agree pi\\ud83d\\ude02\\ud83d\\udc99...4464859768- @Annetteskrrrt28 FNC needs to come up with something special for Jaeyoon...1548575397977427968- @camilleedawon HAHAHAHAHA GUSTO KO TO. planting tool set \\ud83e\\udd72...1548575397977427968- Even Treasure merch has apron \\ud83d\\ude2d\\ud83d\\ude2d https://t.co/ylXyjSecmI\"\n        ],\n        \"semantic_type\": \"\",\n        \"description\": \"\"\n      }\n    },\n    {\n      \"column\": \"reply_count\",\n      \"properties\": {\n        \"dtype\": \"number\",\n        \"std\": 5,\n        \"min\": 1,\n        \"max\": 32,\n        \"num_unique_values\": 21,\n        \"samples\": [\n          2,\n          21,\n          18\n        ],\n        \"semantic_type\": \"\",\n        \"description\": \"\"\n      }\n    },\n    {\n      \"column\": \"first_tweet\",\n      \"properties\": {\n        \"dtype\": \"string\",\n        \"num_unique_values\": 141,\n        \"samples\": [\n          \"Thinking that Kflex being postponed is not actually the worst for me because this way I might be able to plan things well and get a tattoo with the Frankfurt based artist I really love that same weekend\",\n          \"rating my vape flavors bc i dont have anything better to do (this will be an ongoing thread btw)\",\n          \"FNC should start selling SF9 merch like umbrellas, pain relievers, massagers or maybe even cooking utensils. Like man, we're getting old. CHAROT!\"\n        ],\n        \"semantic_type\": \"\",\n        \"description\": \"\"\n      }\n    },\n    {\n      \"column\": \"Text\",\n      \"properties\": {\n        \"dtype\": \"string\",\n        \"num_unique_values\": 141,\n        \"samples\": [\n          \"['thinking', 'kflex', 'postponed', 'actually', 'worst', 'way', 'might', 'able', 'plan', 'thing', 'well', 'get', 'tattoo', 'frankfurt', 'based', 'artist', 'really', 'love', 'weekend', 'gosiauxkimmy', 'omg', 'pretty', 'one', 'got', 'suya', 'last', 'year', 'still', 'brainstorming', 'couple', 'idea', 'new', 'one', 'link', 'please', 'share', 'design', 'get', 'done', 'suyas', 'work', 'just', 'cheffs', 'kiss', 'link', 'gosiauxkimmy', 'work', 'truly', 'amazing', 'ahh', 're', 'going', 'korea', 'even', 'exciting', 'yeah', 'going', 'go', 'another', 'country', 'get', 'tattoo', 'complaining', 'might', 'well', 'make', 'kookfie_', 'agree', 'point', 'either', 'amazing', 'lineup', 'everything', 'go', 'perfectly', 'day', 'festival', 'can', 'just', 'push', 'thing', 'back', 'excuse', 'offer', 'refund', 'people', 'already', 'bought', 'plane', 'ticket', 'booked', 'hotel', 'etc', 'got', 'no', 'getting', 'korea', 'studio', 'support', 'no', 'honestly', 'just', 'like', 'said', 'anyway', 'gosiauxkimmy', 'might', 'just', 'go', 'ahead', 'cause', 'going', 'frankfurt', 'like', 'killing', 'two', 'birth', 'one', 'stone', 'need', 'save', 'first', 'omg', 'got', 'tattoo', 'no', 'line', 'work', 'absolutely', 'amazing', 'omg', 'yes', 'suya', 'also', 'big', 'fat', 'yes', 'jut', 'guest', 'brussels', 'sometimes', 'met', 'got', 'tattood', 'no', 'tbh', 'kflex', 'kinda', 'making', 'fool', 'atp', 'like', 'people', 'really', 'wanna', 'go', 'anymore', 'keep', 'going', 'like', 'feel', 'like', 'will', 'need', 'wonder', 'really', 'crazy', 'comeback', 'ever', 'survive', 'atp', 'till', 'october', 'date', 'gosiauxkimmy', 'artist', 'called', 'suya', 'following', 'painting', 'strip', 'tattoo', 'pretty', 'can', 'say', 'tempted', 'get', 'tattooed', 'thought', 'thought']\",\n          \"['rating', 'vape', 'flavor', 'bc', 'dont', 'anything', 'better', 'will', 'ongoing', 'thread', 'btw', 'hcneyhi', 'bc', 'smell', 'like', 'cigs', 'imma', 'dead', 'plutoyuta', 'ney', 'tf', 'smoke', 'flavoured', 'air', 'ibreaksouls', 'idk', 'flavor', 'jutaedo', 'already', 'liquid', 'link', 'plutoyuta', 'never', 'ever', 'try', 'bilberry', 'like', 'wtf', 'watermelon', 'lemon', 'taste', 'good', 'will', 'buying', 'strawberry', 'kiwi', 'mid', 'wouldn', 'crave', 'mind', 'either', 'pineapple', 'coconut', 'taste', 'like', 'white', 'red', 'bull', 'wouldn', 'buy']\",\n          \"['fnc', 'start', 'selling', 'merch', 'like', 'umbrella', 'pain', 'reliever', 'massager', 'maybe', 'even', 'cooking', 'utensil', 'like', 'man', 're', 'getting', 'old', 'charot', 'trueee', 'agree', 'pi', 'fnc', 'need', 'come', 'something', 'special', 'camilleedawon', 'hahahahaha', 'gusto', 'ko', 'planting', 'tool', 'set', 'even', 'treasure', 'merch', 'apron', 'link']\"\n        ],\n        \"semantic_type\": \"\",\n        \"description\": \"\"\n      }\n    },\n    {\n      \"column\": \"cleaned_text\",\n      \"properties\": {\n        \"dtype\": \"string\",\n        \"num_unique_values\": 141,\n        \"samples\": [\n          \"thinking kflex postponed actually worst way might able plan thing well get tattoo frankfurt based artist really love weekend gosiauxkimmy omg pretty one got suya last year still brainstorming couple idea new one link please share design get done suyas work just cheffs kiss link gosiauxkimmy work truly amazing ahh re going korea even exciting yeah going go another country get tattoo complaining might well make kookfie_ agree point either amazing lineup everything go perfectly day festival can just push thing back excuse offer refund people already bought plane ticket booked hotel etc got no getting korea studio support no honestly just like said anyway gosiauxkimmy might just go ahead cause going frankfurt like killing two birth one stone need save first omg got tattoo no line work absolutely amazing omg yes suya also big fat yes jut guest brussels sometimes met got tattood no tbh kflex kinda making fool atp like people really wanna go anymore keep going like feel like will need wonder really crazy comeback ever survive atp till october date gosiauxkimmy artist called suya following painting strip tattoo pretty can say tempted get tattooed thought thought\",\n          \"rating vape flavor bc dont anything better will ongoing thread btw hcneyhi bc smell like cigs imma dead plutoyuta ney tf smoke flavoured air ibreaksouls idk flavor jutaedo already liquid link plutoyuta never ever try bilberry like wtf watermelon lemon taste good will buying strawberry kiwi mid wouldn crave mind either pineapple coconut taste like white red bull wouldn buy\",\n          \"fnc start selling merch like umbrella pain reliever massager maybe even cooking utensil like man re getting old charot trueee agree pi fnc need come something special camilleedawon hahahahaha gusto ko planting tool set even treasure merch apron link\"\n        ],\n        \"semantic_type\": \"\",\n        \"description\": \"\"\n      }\n    }\n  ]\n}"
            }
          },
          "metadata": {},
          "execution_count": 6
        }
      ],
      "source": [
        "sf9_df"
      ]
    },
    {
      "cell_type": "code",
      "execution_count": null,
      "metadata": {
        "id": "-4cFMHswRY5X"
      },
      "outputs": [],
      "source": [
        "sf9_docs = list(sf9_df['cleaned_text'])"
      ]
    },
    {
      "cell_type": "code",
      "execution_count": null,
      "metadata": {
        "id": "5FVLywA8RY5X"
      },
      "outputs": [],
      "source": [
        "import voyageai\n",
        "\n",
        "vo = voyageai.Client(api_key=)"
      ]
    },
    {
      "cell_type": "code",
      "execution_count": null,
      "metadata": {
        "colab": {
          "base_uri": "https://localhost:8080/"
        },
        "id": "x6KOagLqRY5Y",
        "outputId": "c36d21de-53f9-4d8f-85db-5127eddb0a49"
      },
      "outputs": [
        {
          "output_type": "execute_result",
          "data": {
            "text/plain": [
              "['fantasy friend plz help find nicest full body hq pic please kxcvxvii go link kxcvxvii ma link',\n",
              " 'praying kflex london amazing lineup just like one link yeonhoteeth naziatheworld k_flex_ kpoplux_ september friday sunday',\n",
              " 'already tired still need stay assignment help link pumscastles re reliable professional assistance academic assignment essay due homework online class thesis research paper math case study among others dm com whatsapp link',\n",
              " 'will probably delete tweet later just got intense feeling outta nowhere everyone want shut disappear forever like anxiety anxietying right now horrible head space atm link vulturcaeli dimiiuc learn pro start making serious money crypto using developer mev strategy proof pudding link',\n",
              " 'everyone pray accounting tmrw aww thank bff rickytten thank youuu good luck ll great bff already',\n",
              " 'nope didn help smol bye link sarudth sun hahahah aishaishious glow dephchii discrimination smol people aishaishious hahaha feel also every single time',\n",
              " 'grandma going hate look much better dont even gaf link hyunlixxi yes ugh trial error work wonder tho morganbbang okay new room era cant even tell natural light morganbbang ever want change specific part try ur like now right hyunlixxi hmmm just change random thing see like thats kinda ehat every time like never plan just jt morganbbang wanting change thing room idk though hhhhhhhn thank much ily morganbbang ur room cool hyunlixxi thank youuuuuu happy morganbbang love',\n",
              " 'idk whether happy sad knowing alevels start later end later sanniesmist nah kinda like time re just anyways ygm like idk id rather later week just thinking just get done make sense eternallyeos actually dont know make sense eternallyeos people start around now end early like ash till technically shorter exam period stress time case doesnt apply ykwim eternallyeos still period time matter anyone start exam actual span time like one stressing longer get mean eternallyeos still exam period tho like matter stressed amount timea level forever much smarter week revision opposed starting summer week earlier sanniesmist idc missing week summer still stressful knowing still exam ending later mean just stress longer ykwim eternallyeos cant stress anything position sanniesmist yeah stressed june bro yiu finish way eternallyeos much rather able revise half week longer missing literally like week summer come let serious revision time time stressed eternallyeos happy bruv good thing seen state',\n",
              " 'anyone want complete heart link jewonlover omg love',\n",
              " 'help link gunwookeg one',\n",
              " 'thankful trans hot today link yeolliefarm thank thank week jyanies jellywangji nice achascuseme alright picky meant thankful today trans hot link jellywangji lie today wednesday concert slay link jellywangji pose always take hope can take next tinkeriight ur sweet jellywangji look thriving sexy link',\n",
              " 'stealing wren nice doesn even nice thing twitter user ham monbiblee embedded head can help make shorthand reference real life monbiblee genuinely many list choose just hat identifying clothing gay boy one probably common truly never see bean egg benedict without going wonutaeyong benni famous boy world wonutaeyong leesas smooch time link fucking exactly monbiblee partying fun dancing scoupsunnie just many big problem tuesday oh really mean much trying focus spreading joy engaging thing enjoy website feed much negativity glad coming thru monbiblee ur playlist think cool make fun thing really make want enjoy',\n",
              " 'okay one better friend need input white yeti cup link xion_lemons apple pencil xion_lemons third heeheekeon noted thanks xion_lemons personally think really cute might practical go first mom bday teacher',\n",
              " 'sure sometimes ll tastebud child sleep well knowing hate mushroom like instinctangel love liam abcixer still love tho abcixer well re child course opinion instinctangel mushroom suck yeo_cry_tea imma always fuck mushroom instinctangel mushroom right right yeop instinctangel ll give cook better ion knowwwww instinctangel taking anything seriously liam food terroriser re one doesn eat mushroom tomato like weird instinctangel one need seek help link seek help maturity instinctangel ill happily accept old odd wont putting vegetable voluntarily near mouth also old never mind re old like grow ion know link instinctangel ll eat vegetable except mushroom tomato instinctangel mushroom disgusting sruvivethenight look good serious instinctangel like will fuck rn play link instinctangel re icky link sruvivethenight like give extra mushroom actually instinctangel ur just like meee mushroom gt gt like yeah ll get hot chocolate milkshake wherever can imma still eat vegetable cuz gas',\n",
              " 'pretty sure ruis left venue struggling choose bias naziatheworld can imagine wish gone amazing boy beautiful talented naziatheworld coming struggling naziatheworld cause fr naziatheworld omg naziatheworld wondering donghan biased naziatheworld fact',\n",
              " 'today rough grandparent special hurt won earth anymore peachyahxo hard hon sorry peachyahxo sorry alexis peachyahxo course time a_typical_tiff thank love holding know moment now well grandpa ugh just miss much thank honey appreciate peachyahxo sending big hug prayer friend link peachyahxo sending huge hug right now honey sorry loss',\n",
              " 'know almost agree think jaehyun well though johnny bestie link true also surprised even distribution tbh kinda agree woulf just give taeyong bit jungwoo link idk algorithm wow rest even can vibe everyone uneven def talk lot maybe use nickname direct name higher imo link jaehyun taeyong low link',\n",
              " 'lindsey bae going need get ur high horse realize fm can manage artist even fund can take care sudden expense happen future ll leave alone stop defending fm like wanna mean rlly frustrated wrote yall need leave lindsey alone nothing yall just eate comparing pay crazy bc fm kpop company supposed manage artist give flying fuck re broke covering cost crazy won even debut shut fuck please thank',\n",
              " 'messed heart donghan nevermind thank amazing evening next concert link thank jochanyy soo cuteee tiny jochanyy perfect',\n",
              " 'scale haetendori crazy cheolsbar generation sksks gen scammer cheolsbar right just iirc will get money clapsahi definitely different bread scoupsatang exactly idk planning pay back everyone clapsahi kakak pun bank send help',\n",
              " 'leehan make sad devastated like listen weirdest thing ever said feel like wanna protect defend everything anything like loses smile one day oh god ll end miss himmmmm link nothing cherish person smile remember kwon taeeun oh god remember scared lose pretty smile cuz hate criticism got even tho nothing wrong saddd',\n",
              " 'found friend first shaking saw name fan sign vc call god always way hold emotion front parent coz know dream come true ll finally able tell howon much mean link phoebefeehily thank youu happy babe risa_del thank si rhnbldg thank youuuuu shaineeeyy_ time meet ideal man luvvmbi thank youu jinhoscamellia thank congratulation congratulation omgggg super happy uuuuu ate darrr congrats omg oh god congratulation congratss congratulation si happy woohoo',\n",
              " 'still thinking watching jiwoong bl sungyeol appeared tv bg feel like caught something wrong inspiritspunch literally qctired omg sameee havent seen ep drama good inftizer roommate poongduck one drama played tv background can remember ep now jellybeanbag__ wait jellybeanbag__ just saw jiwoong pop nappeun eomma lol',\n",
              " 'help rt hi anyone know can buy acme dela vie shirt hoodie kimwoossi kimwoossi can buy product amazon link',\n",
              " 'jan aomg sg tour mar treasure hello kl tour apr treasure hello sg tour june seoul waterbomb festival jul ikon kl tour aug tbz world tour bkk like need help going tour laybisidemino go tbz bkk can join shamainexinn gila hard give side miss blue hair hoon link',\n",
              " 'love feel like come back everything will back normal power leader offer feeling assurance yooniquelyjae frfr yooniquelyjae miss yooniquelyjae true yooniquelyjae want time skip pokeseoho hope yooniquelyjae true come back everything will alright yooniquelyjae accurate yooniquelyjae yes true',\n",
              " 'kind need one link right purplesugay look one',\n",
              " 'good morning people phone ily link dahlihwa good morning dahlihwa good morning',\n",
              " 'yonghee feel better hour sleep instead answer take lot nap throughout day meg_marvels lmaooo meg_marvels probably maybe got used bc schedule stuff maybe restless sleeper lol meg_marvels feel fine hour even ll groggy af just get mean say can sleep feel tired meg_marvels take nap though meg_marvels',\n",
              " 'just wanna say love interacting oomfies never feel afraid interact like appreciate interaction may shy awkward sometimes might socially drained time love talking everyone link pardo_ofelis hiii love motherkafkas hehe yay softsnapdragon omg hehe feeling mutual dimiiuc hi oomfie dont interact much hopefully can soon dimiiuc go dimiiuc love interacting seeing tl re adorable starbitsaplings hehe',\n",
              " 'hi friend div cia account khyawnzzn got worded app keep rejecting appeal please rt help find moot also looking new monbebe moa moot link ningberrykai sadly yes yooyawnzzn noooo ate div got tew joowonnielovesu ate ivy',\n",
              " 'fnc start selling merch like umbrella pain reliever massager maybe even cooking utensil like man re getting old charot trueee agree pi fnc need come something special camilleedawon hahahahaha gusto ko planting tool set even treasure merch apron link',\n",
              " 'yes life limited support listen hobby course love priority bother someone just unfollow care others fantasy feel ll keep talking course friend think feel way re adult right life live just like pumseongs thought one felt way thank love lot love fandom people talking abou personal life safe space make better doesn pumseongs re kind fantasy pumseongs can go cry just share whatever want',\n",
              " 'hi gonna twt today dog sick idk much time left please pray kinda thing enbyuno hope ll okay sending prayer enbyuno sorry please know gave many happy memory enbyuno hopefully everything turn alright sending love praying dog enbyuno hope everything will ok enbyuno oh sorry theo ll keeping thought enbyuno sending good energy way enbyuno sending love enbyuno keeping thought hope get better enbyuno hope everything okay keeping thought love much beloved enbyuno omg sorry hear theo really hope ll okay will keep thought',\n",
              " 'wts interest check chance get better ticket seeing anyone interested buying dle ticket chicago sec row vip fv premium pricing paypal can send proof will ft transfer gidle wtsgidle link kuromijai hi still available kuromijai still available kuromijai interested',\n",
              " 'forget idol ppl daddy mommy issue love abt idol ppl religious trauma love heavenlyseoho many entry like come jaengpup group bc ooo religious trauma chart jaengpup real jaengpup get started',\n",
              " 'wts lfb sangyeon holdaper heart cheek bread pc good condition scratch dent got thru pahanap country mejo pricey rf pandagdag sa concert tag boyz tbz poca pc photocard link reserved sangtothe_yeon dmed po thank uuuuu winwinecart message req opened na po yes available pa btw long dop open reservation sure buyer sangyeon hanlim set maverick thrill ride pob check alt price link',\n",
              " 'going start taking natural tranquilizer relieve stress anxiety hope work year holding decided treatment natural medicine accepted ok accept problem',\n",
              " 'supposed heart awww link jaychangslay ok now can call delusional actually fact delusional leehan freejaychang put way thats cute hell sorry leehan think holding pretend bouquet jaychangslay cant even call delusional cuz actually clever size fish bowl thats supposed link sincerelysungho helpppp fish tank little loser affectionate trying listen tried',\n",
              " 'love justbetweenlovers much finished another rewatch effect still much time much cry also every time watch reminded awful doctor horrible personal interaction junho rainorshine link one favourite still best kdrama watched amazing justbetweenlovers stand well rewatches just good kimberlyhahnart yeah keep meaning get recommendation friend work lot dallas artist long just knew wanted one wasn thinking much since didn money instagram great place look tattoo artist work lot people travel tattoo done particular artist signature style want berlin example link tattoo artist artist right often able envision tattoo propose style just cause artist friend tattoo artist dallas hmm wonder still good start looking around tattoo artist style like can different sometimes booked far husband design tattoo amazing tattoo artist transfer articulate design talk together kimberlyhahnart yeah since tattoo artist either idea therefore want even know style want hey rush take long time commit forever kimberlyhahnart yep definitely healing theme still haven figured want either size want thing mulling like yr think something artistic rendered show rising rubble like reborn finding connection kimberlyhahnart yeah definitely want use quote translated one iffy putting korean cause can read wouldn know written correctly artist just gonna avoid worry get think something meaningfully constructed aspect drama meaningful important part capture remember can always use word part phrase well kimberlyhahnart hard one really isn thing reoccurring stuff animal graphic etc damn slice lifeness oh gosh rewatch suggest something ll give thought kimberlyhahnart good still trying figure tattoo based damn hard always good choice',\n",
              " 'wait youtube just said hit view channel way read analytics often miss epic fail thanks everyone enjoying content subscribed reaction channel twowomenkpop congrats proud tnybebe thank twowomenkpop yay congrats spoozisupremacy re sweet thank much twowomenkpop congratulation huge milestone well deserved thank thank twowomenkpop congrats',\n",
              " 'bc heart hurt thought getting win emotional win jackpot like get bunch money steaitherest lotto need win lotto asap sominnieluv let try best steaitherest dont even want think want give win baddd steaitherest money whale steaitherest literally steaitherest streaming voting day thank god day want win just wish support want see happy stage thought happening really make stomach drop kardlov want give whole damn world hate feeling helpless steaitherest just want see win just make dream come true hiddensblink just steaitherest truly sad every comeback release masterpiece can even make wish come true please keep streaming voting link steaitherest feel every comeback richybhidden really love passion hiddeniee truly wish move earth pain steaitherest feel damn helpless just wish give everything steaitherest hiddens emotional wreck now',\n",
              " 'seeing people many different fandom want help god tearing even streaming mv enough ee need sn score lot mbb saved joohoney steaitherest tooo fandom promote show really point svaed woobinsfate just grateful steaitherest warms heart deeply steaitherest making emotional really pmsing oh god',\n",
              " 'dancing look like fucking care fun just happy got move literally can dance save life just leave alone meg_marvels far professional two left foot hard time ringdingtaedong idk ppl can just scroll like mentallydez assuming re professional mentallydez tell kiss mentallydez oh wth mentallydez tell shut mind beezwax',\n",
              " 'excited seriously panic attack opened email link lovelylinda_kw right super excited white_dayzz omg exciting mythosruined thank white_dayzz omg yasss congrats',\n",
              " 'back sure anyone noticed away break much needed losing grandma really turned world upside just going miss much already peachyahxo definitely noticed glad took break hope well welcome back peachyahxo glad got take break glad re back peachyahxo hope re feeling better even bit yesterday take time need family time important come grieving re best support system around take care girl still probably won like yeah hope re well update spending time family bit thrifting found loving thing let know want see getting ready trip strongly disliking hot weather reading usual lol just can keep sane',\n",
              " 'hope yall miss dumb tweet merlotmv dont worry back next concert haonslut will miss ill back emmys_archive true justerithings true haonslut yes miss tweet haonslut will miss today tomorrow forever haonslut always miss tyyunseo gonna back soon',\n",
              " 'might little bit sexuality crisis honestly cant picture man find attractive idk someone help mean thank morganbbang homosexual morganbbang went similar thing totally ok sexuality crisis mean re trying figure like just nature human talk dm like always talk morganbbang re welcome morganbbang ll ok morganbbang mean re stressed need rest re worrying',\n",
              " 'keonhee one brightest warm human ever seen smile make heart feel happy absolutely adorable talented existing heal heart thousand people bring warm happiness world love keonhee 건희 원어스 link xesha_xesha love keonhee 건희 원어스 official_oneus love love love 원어스 건희 keonhee thank cute drawing ok mic drawing png pic link k_desborough welcome keonhee 건희 원어스 official_oneus link lovely pic meant say btw keonhee 건희 원어스 thanks sharing official_oneus love thank keonhee 건희 원어스 k_desborough got keonhee 건희 원어스 official_oneus link love pic keonhee 건희 원어스',\n",
              " 'help keep bleeding randomly random spot body ok cursed ctrleehan thankuuu ll sure put band aid hurt gotta put band aid hope okay ctrleehan idk like since yesterday just randomly find scar thats bleeding body happened cant die may wait',\n",
              " 'hi hi will kinda inactive day currently dealing loss family member will dealing grief package will sent week ll let know achelloise deepest condolence bb keeping family prayer achelloise sending deep condolence please take time achelloise deep condolence',\n",
              " 'let get straight ike dropped first original song incredible ver dropped lore lore crafter heart dying vesper dropped first cover shinigami hex drunk cooking stream san debuting today actual fuck behindzerosp also pio chan yandare asmr ringfit stream behindzerosp just meal meal meal meal basically buffet lmao mayapple_pie thing ware rolling one another adrenaline constantly peaking behindzerosp fed behindzerosp feeding weekend behindzerosp indie scene buffpup premiering kind animated short today',\n",
              " 'someone send cute clip vids photo gifs faves please really cryyyyy mad sad frustrated ughhhhh yooyawnzzn gotchu thank much bby minkyuncart thank daniel yooyawnzzn po atee hope help marami pa sa gallery hehe link link yooyawnzzn much since deleted long time goofy wonho bonus soobta claus link _slrensong thank ate bri',\n",
              " 'got birthday balloon can believe turning old hag now anyways thankful god granting another year life surrounding many amazing people couldn thankful link whereisperseus thank christy mean lot miss well jacquelame happy birthday dear friend miss hope best day rtljoshua thank can wait link next concert jieunsnamyu thank aime love bestie jacquelame jackieeee happy birthday bff love jacquelame happiest birthday bestie can wait see makeitbloo_ thank abi rgbelenadraws ty friend jacquelame happy birthday jacquelame happy birthday jacquelame omg happy birthday amazing day chula',\n",
              " 'anyone else anxious dkb concept member photo bc know meg_marvels cant wait meg_marvels even mention ll collapse rn meg_marvels stop meg_marvels nervous excited',\n",
              " 'goodnight twt everyone sleep well dream good tonight ily link goodnight jess dahlihwa goodnight yes look like lol dahlihwa nighty night dahlihwa bandaids',\n",
              " 'wrote quick note community board yt posting weekly schedule yet feeling little burnt please give day recoup week need yet editing video lol seriously workaholic probs twowomenkpop good good also hope enjoyed event reply community board kenneth_iain haha twowomenkpop slap air slowdown take breather spoozisupremacy thank appreciate much twowomenkpop ok delay thing like hope get rest need lindaamj thank twowomenkpop take care incredibly sweet thank sometimes work ground many thing going mind busy just need full day just hang husband worry anything',\n",
              " 'just wanna say hour boynextdoor debut literally coolest fandom anyone ask really easy make friend general seeing warm welcoming everyone really helped hope can friend future heartsfrtaehyun woonhaxk never embarrassed life link exactly best fandom lt may kst woonhaxk hour now whatever fandom name gonna already love will debut tomorrow btw tweet sweet',\n",
              " 'kinda just feel like belong twitter space anymore idk age just feel annoying isolated just know maybe ll leave hiimizu omg yea think actually left feel lonely miss everyone brisanbear thank dimiiuc feel gradually becomes harder harder keep bc life stuff sometimes wondering just drop still like following moot interest dimiiuc whatever best bri scaras awww hehe tysm appreciate dimiiuc go time time welcome trust always happy see tl dimiiuc completely agree just good time dimiiuc lt okay sad lose touch dimiiuc ohhh yeah today saw person getting much hate reason literally mean site crazy ladyellesmera probably going anywhere reason ll definitely keep touch keep forgetting check server bc haven getting notification dimiiuc keep touch though please lt mean discord still lol sylveoneon tiktok honestly scare bit like ppl mean wanted branch cooking use tiktok instagram intimidating crowd ppl esp food lol dimiiuc yeah weird see softsnapdragon awww yay sylveoneon omg yea honestly re right like forever haha trueee tiktok full young ppl part dimiiuc whatever best love seeing tl love best dimiiuc understand feeling like though cause often feel like tiktok full younger ppl dimiiuc worry dimiiuc ask make sense ppl age someone younger grew theylesbian yeah true twitter sooo long gone many fandom sometimes give ppl saying ppl age shouldn even anymore like feel age either lol pardo_ofelis awww yay ty link aethwer yea true hehe tysm dimiiuc thing tho age group fandom online grown together way common ground agree sometimes isolating dimiiuc nooo rlly enjoy seeing tl love oomf dimiiuc ure just year older understand many unique circumstance everyone life statement meaningless nyarcotic aww yay glad hehe re right aethwer omg yea true just feel like age ppl might like uhhh still lolol maybe just think like talking dimiiuc feel think talking best eventually end finding people click regardless interest',\n",
              " 'omg nooooo delete reinstall twitter app lost draft didn think take screenshots either profstaceyscott thank sorry hear hope remember though know still pain recreate yes rough day huh oh nooooo',\n",
              " 'can someone tell many hour serenade cuz super super confused goldentaesan love smart ppl re welcome say just googled time difference really great time zone either unless one goldentaesan tysmm appreciate dumb come timezones okay will debut full name almost mind asking can tell exactly time will come timer link',\n",
              " 'literally nowhere near perfect finished first crochet project pls dont roast ik edge wonky struggle tension link rukiaschappy ahhh thank pls dodjwowk rukiaschappy nadz thank shoyotae danke schatz omg daffodvils thanks pavie sanhwacore thank appy sunnyinniee thank froggienoya cuteee love colour froggienoya cuteeee froggienoya cute froggienoya love froggienoya pls ur cute froggienoya love angel froggienoya love colour lil heart froggienoya great cute also sadly fucked clasp made long lil lose hey next time ill make better hehe sugawarasohma ur biggest supporter ilysm sugawarasohma beginning hopefully heheheheheh gt froggienoya can wait see thing ll make cixhaos thanks giegie sugawarasohma thanks beth froggienoya cute val',\n",
              " 'mbtis created fantasy favorite chani slow miss radio show much link miss favorite benz',\n",
              " 'idea sleep tje toilet fully asleep way cant oversleep work smart hard',\n",
              " 'jwalkerz need help please please report thank link aishaishious feefaifourjay already done thank aishaishious done already thank reporting aishaishious re welcome least can use talking people wish death upon others thanks hard work thank helpful usual aishaishious done',\n",
              " 'time admit danmei hyperfixation kind waned haven motivation read anything since november can see account now mainly get wrong still love danmei just get much joy soft_nakyum fandom dry hell now natshaingame yeah soft_nakyum completely fine probably need break like many thing kinda take break time time fact touch something month doesn mean won ever body will tell time go back soft_nakyum love moot drift fandom another fandom lol like rare great interest wise obviously going stay fandom just thought explain change account lmao know just bored toxic fandom become idk like haven experienced tho anime kpop ll come back point now backburner',\n",
              " 'can literally recognize silhouttes kissme year dont even know face shadow help kebinwooo yr recognize xander think eli korea tho heard opening restaurant tho idea kevin danville yeah new york idea ll kebinwooo girl thought kissme long enough can say sure kebinwooo yoycecamacho well think member stayed group cause eli california kevin woo life new york danville california kebinwooo thought eli bit long face third one doesn seem let see kebinwooo probably ukiss obsession stalking post tag whole day can see sitting home looking guess laughing hope ll tell soon suspense killing mitsubachiii omg people page yeah fact every single kissme different guess wild ukiss tell kebinwooo sorr coming side page speaks heart followed forever can recognize even one shadow sure guess make unsure thought saw first katiereamy fact second photo look like soohyun almost convinced kebinwooo daughter say silhouette just soohyun kiseop hoon just facing opposite direction think third one eli kebinwooo hilarious honestly kebinwooo lol feel thought recognize kissme year xd least got xander kibum least sure eli kebinwooo feel tge think three xander dongho kevin sure killing hahaha kebinwooo param_opseo way opened picture genuinely thought whoa adding three new member ukiss bc cant even recognize kebinwooo',\n",
              " 'taken weekend maybe reason wasn feeling well enough travel back makati today wanted one last day rip lucio link mxsmkhjc thank france sleepybearzizi thank ningberrykai thank star yeapaulee thank ate pao yooyawnzzn sorry loss div huuug yooyawnzzn aww condolence ate sure good place na yooyawnzzn hala nooo sorry loss sending hug consent yooyawnzzn lt condolence div sorry happened sure sweetheart watching pet heaven na ll always side link thank bb yanny lt',\n",
              " 'thinking kflex postponed actually worst way might able plan thing well get tattoo frankfurt based artist really love weekend gosiauxkimmy omg pretty one got suya last year still brainstorming couple idea new one link please share design get done suyas work just cheffs kiss link gosiauxkimmy work truly amazing ahh re going korea even exciting yeah going go another country get tattoo complaining might well make kookfie_ agree point either amazing lineup everything go perfectly day festival can just push thing back excuse offer refund people already bought plane ticket booked hotel etc got getting korea studio support honestly just like said anyway gosiauxkimmy might just go ahead cause going frankfurt like killing two birth one stone need save first omg got tattoo line work absolutely amazing omg yes suya also big fat yes jut guest brussels sometimes met got tattood tbh kflex kinda making fool atp like people really wanna go anymore keep going like feel like will need wonder really crazy comeback ever survive atp till october date gosiauxkimmy artist called suya following bora painting strip tattoo pretty can say tempted get tattooed bora bora thought thought',\n",
              " 'today good reminder matter much matter much hard work effort put matter loyal year doesn amount anything need new job sorry going time mental health best walk away hope find piece another job link hope can find new job can see value lin feeling exactly like hope also find better job can feel validated enjoy sending lot love good vibe oh damn hope find re looking deserve much better hang one day ll find job deserve get tell laaaaater link oh gosh sorry happening sorry lin disheartening hope find something better',\n",
              " 'anyone know song link daisyjun_yt real euijeongify oh way song went platinum within four wall bedroom forkimbit ur right euijeongify shake shake best song ever actually forkimbit song shake shake euijeongify road boyz shibaseoho ur real one euijeongify',\n",
              " 'aris alright please take rest need might online time dm open ily spcygomtokki happened soongyus sending hug consent horangyoon ami sending virtual hug consent spcygomtokki elle happened just opened twitter',\n",
              " 'officially june happy pride month matter identity love support still closeted around family irl friend online community feel safe like belong every month pride month sonderstarlight thank happy pride month sonderstarlight happy pride month sonderstarlight happy pride month siren bringing virtual hug support anyone everyone lt important loved worthy matter others might try make feel link',\n",
              " 'help just accidentally said innit instead isnt nextboydoor arab promise taesanade british moot mjaehyuns gonna get middle eastern card revoked atp lmao taesanade can australian next mate mjaehyuns first moot saying thought american now turned british scared taesanade turned british taesan innit uuuuu',\n",
              " 'good morning mooties feel star proud boy dropping aoty link dahlihwa npt surprised lmao pretty okay day thank link litskz listened last night dropped listening morning changed life forever stg agree skzforest know lino floor lmaoo hope best day ever ilysm link dahlihwa good morning hope amazing day today shall lyk think album week time hope love boy look incredible insta twt pic seen re blessed red lino aaaa love love love dahlihwa speechless whole album masterpiece song unique flawless',\n",
              " 'looking heart card sleeve can buy lynjji_ amazon link lynjji_ set found good price link',\n",
              " 'make twitter link hwiygbean soooo emotional now miss criii',\n",
              " 'question anyone else seeing mobile artwork isn showing embedded recent fic though desktop re normal anyone know fix happened ty link sonderstarlight try setting width img src html tag sonderstarlight used google drive dropbox nothing working frustrated kind folk pointed link free sonderstarlight happened image url host image isn stable try using link thing worked sonderstarlight optimisation issue mobile site difference desktop site think image link isn working way sonderstarlight think must problem wouldn surprised later day tweet smth blueqing_ oh trying find way fix morning ahhhh make sense weren showing either view fact show just fine desktop odd sonderstarlight just checked link',\n",
              " 'ppl tiktok confused like btob one strongest vocalist ever wymmmm link dokidokinari fr mygintoki eben thats saying froggienoya kpop stans idea fucking course slaying',\n",
              " 'really rough day mentally just want thank gave birthday wish today think go crazy without can hope tomorrow better love jaengpup love hope thing get better soon link jaengpup problem lt link ayseetemasu ayse thank always kind bearyuns love bee oxshyuk thank much eli really sweet jaengpup love pup tomorrow going better will always behind kind deserve jaengpup love pup jaengpup love know jaspie link',\n",
              " 'worry just staff member helping dkb mic check can ignore link underrated keep telling everyone kristen way log delete twt gif send yes keep hidden need protect man somehow fight junseo burnburbey omg sorry yoooo thought anti sec looked icon rn link',\n",
              " 'glad able visit bin always dream visiting fantagio since flying alone philippine korea one biggest risk made yet best decision miss much __ysyh starrrcha seanakaylee link __ysyh starrrcha seanakaylee thank youuu much also pic huhu hyungroha fayeunofabilosa pleasure __ysyh starrrcha seanakaylee friend sent link thank much also pic take care travelling alone roha starrrcha thank po yeah true time na ok time na miss badly ingat ikaw dyan __ysyh seanakaylee thanks jaz __ysyh starrrcha seanakaylee thank si heart hurt thought able let go last time',\n",
              " 'teufind lf teume moot lf teume moot lf teume moot lf teume moot lf teume moot kailangan ko ng source chika please help rt hahaha ofskirt hello hi let moot hello beh jaeprettysomuch helloo pooo hello',\n",
              " 'feeling good let send love people least actually didn time cause next patient arrived intention',\n",
              " 'yoooo mom gave best bday surprise everrrrrr literally decorate cake ian pic cuz know much love also deadass wrote dpr ian mami thnks mami feel like dprian_ celebrate asddfff link link inseongs_bestie dprian_ thank bbygirl mwahh finalsensuous dprian_ happy birthday bitch finalsensuous dprian_ lop uuuu dayyan_rosdiana dprian_ thank much sweetheart finalsensuous dprian_ cute happy birthday dear bobbism dprian_ thank ava loml dprian_ thank finalsensuous dprian_ happy birthday beloved rachel finalsensuous dprian_ sooo cute dongcuit thank kati ily mwahh finalsensuous happy birthday rachel love callmetata___ dprian_ thank much cazpybara dprian_ thank much sweetheart chaosisalone dprian_ thank much lovenumberfive dprian_ really sweetest thank much love _be_id dprian_ awww thank much grace christian better come right neooww finalsensuous dprian_ omg cute happy birthday rachel jyspeach dprian_ thank much bby mwahh finalsensuous dprian_ love cute happy birthday finalsensuous dprian_ omg cute t___t happy birthday rachel lt finalsensuous happy birthday cute dprian_ come celebrate rachel birth lolol finalsensuous dprian_ saur sweettt happy birthday rachel finalsensuous happy birthdayyyyy rachiee cc dpr ina link finalsensuous dprian_ hejwkwa thats fucking cute happy birthday babygirl lt',\n",
              " 'visited thekpopempire everett mall already know place going problem haha can wait grand opening guess pull link foxyeos re cute pretty krklemm cry yeji lia pc check krklemm sound super cute exciting re open soft opening friday stock limited plan beauty snack space event pc trading super cute shop owner worker really nice krklemm oh open sound lil tempting ilyiknxw talked one owner said re planning partner cupsleeve event people event store maybe can make day point krklemm thekpopempire glad live nowhere near also intensely sad krklemm nice dreamsaboutkpop yes true got yuna yeji duo pc bought fave somewhere lol krklemm photo strip cool love shame atleast lucky pull maybe able find yuna somewhere else dreamsaboutkpop love photo strip whatever want call clear thingy ryujin pic bummed yuna member inclusion cute krklemm omg love little sad yuna since got everyone else fun extas pretty pc link ooh really debating getting finally caved krklemm thekpopempire gonna say lia cause bias krklemm thekpopempire literally just listened cheshire',\n",
              " 'know bout feeling link princekwsy thank darling dariiennne midnight yet lmao happy birthday bestieeeee ll give another one midnight',\n",
              " 'feel lonely since everyone asleep now need gotxdinary ok buttt link ahhhh cuteeee halmeo_innie hellooo link awake gotxdinary look hannieee link lumi link wvnberry omggg graduating yayayaya good wjsbshshh link good school almost rlly close graduation woohoo still awake lumi link wvnberry typing still isn great anyways youuu wvnberry spottttt best friend',\n",
              " 'june fansign junseo sweet miss much link planetycg made smile planetycg cute ally real happy lt planetycg like pochacco pochacco',\n",
              " 'name one normal interaction artist challenge minibeamo actually true haonslut wdym gray married normal emmys_archive neither thats sad haonslut can remember one retrokika just self control money haonslut woahhhh re luckyy haonslut normal interaction bloo haonslut wait artist met fear bloo normal one',\n",
              " 'poll buy online streaming upcoming fan meeting let say cost please retweet want see many get can send strongly worded tweet back company lol miss terribly wanted vote yes clicked wrong option mindofstacey pls pay',\n",
              " 'will pa exam will well good luck starkhive thank nivi bambbhlight good luck rokartrider_ thanks bro pebbled_trouble thank youu dear fluffdawon thanks lot himi angbutterluv thank bub bambbhlight yeah ll well bro bambbhlight good luck exam ll surely well pa exam',\n",
              " 'missing much can sleep つω kxcvxvii safe soldier now eat rest time regular let lower worry level also think just hope safe fine time rest eat enough youngbinthinker hope can come soon least say okay gt lt link mindofstacey thank kxcvxvii sending cheer link kxcvxvii link kxcvxvii think busy event karime will come time worry much',\n",
              " 'fix know re sad actually going insane size difference link wwinsical watapakjunhee hvave much say emotiomal right now',\n",
              " 'know today really struggling headache major circulatory disturbance luckily work running errand mum ll return home rest day sudden increasing temperature just good chrissy_btxt try exohoranghae yeah will love summer vibe brightness temperature killing every year thank redcherrydream pls stay hydrated redcherrydream good rest temperature change worst redcherrydream get well soon link',\n",
              " 'better best bl time foradeadgiri well can imagine better tongue kiss rie rip shirt namjoon say motherfucker mcr start playing dan phil come holding pride flag',\n",
              " 'hari need better friend now instinctangel just question hostile still haven watched squid game parasite mind like good right now instinctangel just now watching business proposal fuck yoora weird dickhead omg fucking weirdo',\n",
              " 'tl cleanse jihoon best leader jihoon best boy jihoon treasure jihoon handsome jihoon talented jihoon lovely jihoon angel jihoon respectful haruto kind haruto handsome haruto loved haruto cute haruto talent haruto rapper haruto humble haruto purest haruto jihoon 하루토 지훈 haruto handsome jihoon best boy jihoon best leader gellatinz jihoon best boy',\n",
              " 'think still got luck got except yunhyeong better lucky next time thanks teekoned great service got bobby pob many thanks overall happy link zatimusa welcome thanks tau order teekonedfeedback syaffaherryson ok got lot video sleep also happy happy now link junhoe really came last time got lot luckily still got bobby time counting meet boy next month',\n",
              " 'need sleep yall esok dah kena datang pukul cant sleep sleep geng wya',\n",
              " 'interview min wish luck yo gurl trying change job better nf_sunflower thank ary thank god went well anggadextrous good luuuuck anggadextrous letsgooooo god anggadextrous good luck',\n",
              " 'school since just finished separate class min ago still turn homework study tomorrow exam osoilem hey offer realiable academic writing service affordable price kindly hmu gor great offer com link osoilem struggling working essay researchpaper thesis assignmentdue homework quiz dissertation yes sure get touch today seasoned writer ready deliver quality paper right need osoilem keep going osoilem need help homework link',\n",
              " 'woo woo way right heart crushie cake behavior say link cupofhwani bias welcome link oh godddd',\n",
              " 'hi filo road𝓨 since xikers star platform version expected arrive soon mini ga mechanic follow like rt pls help reach roady moot juseyo reply bias name picture love mention moot link lochwve oh gosh wittle pookie standardteez hyunswoon junseokdimples sure sure hehe tweetuan akinsihyunjin xdinarylocks felt spcygomtokki best main rapper sumin hoping win ga hyunswoon junseokdimples link akinsihyunjin xikersloml standardteez reixikturn hi agree just lil ray sunshine must protecc noted good luck spcygomtokki bias yujun cute especially smile xikersloml standardteez reixikturn link spcygomtokki yechan thank ga hope win akinsihyunjin xdinarylocks link will use twt picker choose winner tba arrive address will two winner good luck xikers xikersph 싸이커스 road𝓨',\n",
              " '주호 fsd fantasyselcaday heart always love support link pretty re pretty lin favs pretty',\n",
              " 'look co worker face found sleep wake hour later start day norm life get like many thing little time talia_shine nnooo need sleep twowomenkpop oh hey another similarity hallahae lol okay thing wouldn get done didn stay late twowomenkpop concerning link hallahae yeah almost probably going throw towel early tonight maybe ll bed twowomenkpop like everyday twowomenkpop course burning never good long re taking care best can good kenneth_iain re sweet thank looking ll fine already started now gonna try better sleeping habit twowomenkpop also know hoping look well enough re just able keep going cause alternative vewy scary kenneth_iain honestly know twowomenkpop function just',\n",
              " 'kingmeee wearing concert need idea friend yaaaa like first era may try find something tomorrowbyskz normal outfit karma era thinking ab trying find something hanbokish scared ngl tomorrowbyskz wear one hanbok era fr ill send photo dont worey ill send photo help tomorrowbyskz ll sneak maam need calm itll ok promise welp ig suck maybe shouldn australian thsi really hard huh tomorrowbyskz babe tomorrowbyskz got vvip',\n",
              " 'wanted studying think can cancel now arm started aching like crazy wear wrist support time even right one mean can write hate arm weak link redcherrydream glad hear _padii_ thankfully already got lot better thank redcherrydream rest well take time go little walk enjoy weather hope make feel better stop overthinking redcherrydream ok upset just focus getting better everything will alright fighting horangae redcherrydream oh hope feel better soon',\n",
              " 'rating vape flavor bc dont anything better will ongoing thread btw hcneyhi bc smell like cigs imma dead plutoyuta ney tf smoke flavoured air ibreaksouls idk flavor jutaedo already liquid link plutoyuta never ever try bilberry like wtf watermelon lemon taste good will buying strawberry kiwi mid wouldn crave mind either pineapple coconut taste like white red bull wouldn buy',\n",
              " 'feel like boyz make two kind song epic theme sparkling crunchy refresher really love second kind boyz song taste like lemon shave ice summer day link idaelso definitely crunchy refresher tropical beatz theceruleanrose man wish variety track re good theceruleanrose thank playlist never heard always wanted good start theceruleanrose air fall category',\n",
              " 'still looking tix johnny colosseum friend ticket got cancelled johfam please help meet johnny wtb johnny colosseum johnnybeatcolosseumjkt midsummer_jy hey message zaharaleonhard_ instagram still selling ticket midsummer_jy hiii message _mary roland_ instagram selling ticket re still interested midsummer_jy mesage please can show proof purchase willing sale face value face value midsummer_jy dm looking sell',\n",
              " 'wthhh pgeon just threw hwa figurine house gate istg better damage link wanihanafi thankfully okay nasib baik ada bubble wrap thing hwa okay pumscastles yes padahal house tiang usually normal ppl will leave stuff tapi dia feeling nk jadi basketball player ke apa ntahlah siap ada tape fragile tu tapi dia main buang je waduhhhh stg unbox anything happens will make sure see end esp driver laaaaaa pgeon tgh pm ke lately ni',\n",
              " 'get jumped say color rush much better prefer second first one cloudywook exactly thought world exploration interesting oh well lol like idk watching tought come agreement season really way better ig re minority case cloudywook wait re actually brave thought finishing scared say lmao cloudywook best friend clue ur talking abt sure ur right many year since came just saying just saw someone getting mocked picking season two almost everyone see pick first one liked second season soo much chemistry just better imo',\n",
              " 'people pack pc sell kind masking packing tape enemy understand keeping item safe can open package hand get knife cut damn vacuum sealed envelope ur just inconvenient yechansbestie yeah like scared going damage pc inside bc inside taped masking tape inside envelope shut masking tape like maneuver way around tape bend toploader pc like come jaengpup fjsjfjnsfn noooooo even use big piece washi tape make nearly impossible someone reuse supply like crazy yechansbestie difficult open like thought knew use washi tape inside stuff easy get heavy duty stuff outside needed know yechansbestie understand mean ppl use packing tape around entire thing point can open without potentially damaging stuff inside bc need use something sharp open today received pc inside envelop used masking tape jaengpup reinforce edge envelope packing tape bc received pc envelope ripped open sent pc someone envelope arrived completely empty try leave envelope flap accessible tho impossible like realize use tape pack box move right like hell',\n",
              " 'alright whim indeed deciding go new nickname lux can use luxie want still use jaspie appreciate used lux jaspie interchangeably thank pls like see well love tulipsol shash always biggest cheerleader love jaengpup luv elvenbashir thank alex dendrovash sniffle love wtf jaengpup lux ur coolest person ever coolest name ayseetemasu thank beloved ayse jaengpup luxie sound cute love jaengpup hi lux nice meet uyatwt love much jdaehyeons love',\n",
              " 'apparently dream smp putting mask back oh ugly mf embarrassed now stay anonymous bc problematic racist plutoyuta joongkiskz apologized racist shit done genuinely curious bc can find anything dream fan anti ibreaksouls exactly just attention joongkiskz internet doesn forget maybe apologized wouldn received much hate wwwwiiiinnnn_ exactly',\n",
              " 'felt like needed get anxious energy somehow bought yarn started another blanket link sleepysevens think re right lovely_univrs really believe never enough blanket especially one cool one libtastic fact lovely_univrs everyone need rainbow star blankie really need blanket',\n",
              " 'one emotional support left today just woke tired heard news breaking heart sweetest quiet loving bubb ever ate will miss big time till see ate love much link just know will watch will always wait wagging tail god gained another sweet angel thank good time spent together memory will stored safe place cream gift love link',\n",
              " 'hi need declutter na will free claim album photocards just pay pf sf shopee lahat lahat can cod please help declutter itsleucht inch itsleucht inch poo',\n",
              " 'supposed land around european time think ll able sleep see berlin know even worse living right middle paris berlin likely fly sky _padii_ yeah long journey anyway make even harder hope redcherrydream oh sorry delay sleepover make trip even exhausting hope everything go well tomorrow _padii_ flight got cancelled right now nearly hour delay ll staying paris night anyway guess redcherrydream supposed sleep thought allofmarie maybe checked flight paris berlin one left today redcherrydream know redcherrydream thanks try redcherrydream omg say hello see plane flying okay',\n",
              " 'enin need help dye hair get hair color joohyoung taehun era soobinurhome omg pretty wait umm let say re going suit re pretty qfter soobinurhome want try sooooo many hair color always afraid will suit well red want try darker pretty intense blue wqs horrible soobinurhome hair color last time pay much attention video btw link cause want finish last year just can dye soobinurhome dye hair one time whole life yay want help soobinurhome think going let wait first decide omggg waiting see hair color decide long time since dyed hair omg hey let triplet taehun hair',\n",
              " 'new multi fan can follow time will refollow soon twitter lift limit will however try continue retweet like follow request tweet run gen current moot doesn listen support apologize link hello followed let pre release exo_let_me_in 엑소_들어와 letmeinbyexo weareoneexo exo_exist let moot info edits group follow carrd link',\n",
              " 'kong whole heart can someone pls tell whereas jaeng lil ssong ssong plus also smaller link madame_tourvel _montasy_ oh wow really bear key ring one will get _montasy_ mochiemobts someone posted refund mail say production issue whatever will keyring rn madame_tourvel mochiemobts maybe will able order design change _montasy_ mochiemobts yeah ordered madame_tourvel mochiemobts literally everybody wanted keychain _montasy_ mochiemobts saw someone wrote cancelled similarity existing product isn store anymore madame_tourvel mochiemobts oh problem production pity yootae really put effort little _montasy_ mochiemobts problem solved moment keyring money spent rn sad tae mochiemobts madame_tourvel optimistic speaking will ask week still think way mindofstacey watch giving kong whole story line like ssong ssong cute imagine two jaeng going little adventure _montasy_ madame_tourvel good thinking _montasy_ especially since saying much detail mochiemobts madame_tourvel nope hope tour next year tbh tempted go several stop wallet custody moment mochiemobts madame_tourvel hope put extra money next comeback photobook whatever _montasy_ madame_tourvel still buying bet _montasy_ mochiemobts dollar photobook doll mochiemobts _montasy_ madame_tourvel priced high knowing well bear yootae symbol one item everyone want way see _montasy_ madame_tourvel yes doll size cost won bear cost won okay mochiemobts madame_tourvel wait plus costums always around ridiculous _montasy_ madame_tourvel dollar shipping bear photo book alone madame_tourvel mochiemobts much exactly _montasy_ mochiemobts look nice thing look mochiemobts afraid look tbh think costums added mindofstacey give something cute button eye lost cause _montasy_ ahhh cute _montasy_ milking money shipping see _montasy_ fan meet pricing know ll buy _montasy_ like lock hair lock hair keep long _montasy_ hahah price know maybe yootae included order _montasy_ thought price high know',\n",
              " 'stop simply kpop rehearsal lady monitoring like okay make noise everyone went wooooo go know can better let hear one time just go bruuuuggggghhhhh loud hear hahahahaha laughted embarrased heard youuuuuuu keep mind sounded like link went okay now let make noise everyone screamed oh god pissing loud unprompted can believe',\n",
              " 'plane finally departed minute ago minute paris berlin via plane mean land around pm show start can even express sorry jeonghanxysl redcherrydream just glad ll make disappointing totally missed event redcherrydream really saw said hasn atp know anymore just hope can safe going wonnilaav maybe watching wrong one flightradar redcherrydream sure ppl saying hasn departed yet according flightradar took watching wrong one redcherrydream hasn even taken dear',\n",
              " 'might moved will forever thankful without wouldnt walked path met friend today feel like matter many year will pa will always place heart haonslut real tyyunseo boah ja miss boyfriend boyfriend',\n",
              " 'pissed molly lmaooooo loveisland link good andre letting ruchee know still interested catherine unlike zachaliar loveisland just love ella can hide emotion literally giving look like time loveisland happy smileee waiting thissss',\n",
              " 'seeing timeline alot going sleep great today still awake forget stream let keep helping eris reach follower can continue hype tag please help follower comebackkk follback pls exist let now king back back letmeinbyexo exo_exist exo_letmein exoisback exo_let_me_in exist 엑소_들어와 엑소 weareoneexo',\n",
              " 'feeling good vocal fun cute song vibe looked good',\n",
              " 'feeling great today good morning link ldwww_w_ morningg ldwww_w_ morning ldwww_w_ morningg',\n",
              " 'help decide live wallpaper yonghee link',\n",
              " 'med supposed make feel mabuk mabuk feeling tipsy day already ingatkan side effect lepas bangun tidur je gradually normal thanks sher cayunk nakamtyunicorn sertraline thats supposed least strong kan ke tak',\n",
              " 'fun fact used use dn yonghee deer brazilian portuguese veado slang insult depends use viado mean gay interesting choice comicsanas endearing even raised city near seoul got country boy _fix_ation actually call caipira lot video word usually referring people live rural area use referring people live away capital coast often re one stronger accent like _fix_ation love video pão de queijo cheese bread typical state known heavy accent way speaks video also strong like way drag ma link comicsanas know thought clip jy bungee jumping think saying something sound like think mean cheese bread tell wrong _fix_ation smtown written smt always get glad like thing always make laugh yongheecore will whenever screenshot funny brazilian tweet even translation accurate always something else always bunch reference thing like really fun explain comicsanas can imagine strange must double take matthew related twt also like went brazilian portuguese really fun example ky like humor _fix_ation brazilian portuguese really fun example zero use smt talk seok matthew smt ky smt se mata kill portuguese comicsanas love learning new language bisexual suit guess',\n",
              " 'think need add bank compliment frømm fc look incredible every skin tone look handsome weight look fantastic worked hard look good write korean need often re welcome thanks kxcvxvii translation going helpful apreciative eye exactly whole world need thanks sharing kemsleymichele kxcvxvii just lately apologized tan gaining weight wanted available kxcvxvii love spammer know want spami see let know ll help kxcvxvii awwwww thank re best',\n",
              " 'new addition family hehe cat name lucy yes lucy heartfilia since natsu mirajane bf saved job know much yet vet visit isolated cat sweetest link tjelaca aww thank strawbareum pretty lucy mean light may light life strawbareum cute midseesaw babiest raelianasnoah ikr soft tearsinmywine hehe strawbareum strawbareum floofy strawbareum obsessed',\n",
              " 'help waiting eunwoo come link btsambtuwu think private come didn know event haha yaadannygom hiii event public private',\n",
              " 'help okay omg link best way start day kxcvxvii woke much hotness melting kxcvxvii think shocked lot wife tonight need make come back life kiss kxcvxvii will tell fancafe gave heart attack yes keyz help husband killing link kxcvxvii need ambulance kxcvxvii hottie link',\n",
              " 'disheartened thing today made also spending work rip still break wanted check hope everyone well ll back new fic month gift hope enjoy lt back soon link sonderstarlight happy happy enjoy link sonderstarlight happy birthday siren sending best wish way may year bring many moment love happiness treat deserve take care link sonderstarlight happy birthday sonderstarlight happy happy day sonderstarlight happy bday bb hope feel better soon get lot hug rest stay hydrated sonderstarlight happy balloony day siren please take rest enjoy favourite can sonderstarlight happy birthday know birthday can rough sometimes hope moment can enjoy sonderstarlight happy birthday wish lot happiness hope enjoy day sonderstarlight happy birthday siren wish best hope despite working lovely day sonderstarlight happy birthday hope day lovely sonderstarlight happy birthday sonderstarlight happy birthday siren sending best wish lot hug love hope amazing day sonderstarlight happy birthday siren link sonderstarlight happy birthday hope rest well sonderstarlight happy birthday siren link sonderstarlight happy birthday siren wishing best',\n",
              " 'just problem everything like damn give rest castle_tak idk talking teaaaa castle_tak interesting castle_tak think castle_tak think',\n",
              " 'whole fyp changmin help entering changmin era exposed eric look likeeee hour long link wont leave alone woosanric helppp coming comment aftef just saw changmin edit',\n",
              " 'just logged finch save file lost everything gonna cry kiminojjongie oh god kiminojjongie re still awake']"
            ]
          },
          "metadata": {},
          "execution_count": 17
        }
      ],
      "source": [
        "sf9_docs"
      ]
    },
    {
      "cell_type": "code",
      "execution_count": null,
      "metadata": {
        "id": "fK9f_T56RY5Y"
      },
      "outputs": [],
      "source": [
        "sf9_batches = []\n",
        "for i in range(0, len(sf9_docs), 128):\n",
        "    batch = sf9_docs[i: i + 128]\n",
        "    sf9_batches.append(batch)"
      ]
    },
    {
      "cell_type": "code",
      "execution_count": null,
      "metadata": {
        "colab": {
          "base_uri": "https://localhost:8080/"
        },
        "id": "-XSGyJjDRY5Y",
        "outputId": "671f5f0f-5abf-41b5-9033-7eab9922b7b9"
      },
      "outputs": [
        {
          "output_type": "execute_result",
          "data": {
            "text/plain": [
              "2"
            ]
          },
          "metadata": {},
          "execution_count": 10
        }
      ],
      "source": [
        "len(sf9_batches)"
      ]
    },
    {
      "cell_type": "code",
      "execution_count": null,
      "metadata": {
        "id": "aji4IDMxRY5Z"
      },
      "outputs": [],
      "source": [
        "import time\n",
        "# Embed the documents\n",
        "sf9_embeddings = []\n",
        "\n",
        "for docs in sf9_batches:\n",
        "  for doc in docs:\n",
        "    result = vo.embed(doc, model=\"voyage-large-2-instruct\", input_type=\"document\")\n",
        "    sf9_embeddings.append(result.embeddings)\n",
        "    time.sleep(0.2)"
      ]
    },
    {
      "cell_type": "code",
      "execution_count": null,
      "metadata": {
        "colab": {
          "base_uri": "https://localhost:8080/"
        },
        "id": "4mcKQO_wRY5Z",
        "outputId": "18fb21ca-ba24-40ab-c928-f47f6f1e66e7"
      },
      "outputs": [
        {
          "output_type": "execute_result",
          "data": {
            "text/plain": [
              "141"
            ]
          },
          "metadata": {},
          "execution_count": 12
        }
      ],
      "source": [
        "len(sf9_embeddings)"
      ]
    },
    {
      "cell_type": "code",
      "execution_count": null,
      "metadata": {
        "id": "kA9ftFYsRY5Z"
      },
      "outputs": [],
      "source": [
        "num = np.array(sf9_embeddings).reshape(len(sf9_embeddings), -1)"
      ]
    },
    {
      "cell_type": "code",
      "execution_count": null,
      "metadata": {
        "colab": {
          "base_uri": "https://localhost:8080/"
        },
        "id": "mdUv6DjXRY5Z",
        "outputId": "75013776-5cff-46c6-f03c-23692f7efb74"
      },
      "outputs": [
        {
          "output_type": "execute_result",
          "data": {
            "text/plain": [
              "(141, 1024)"
            ]
          },
          "metadata": {},
          "execution_count": 14
        }
      ],
      "source": [
        "num.shape"
      ]
    },
    {
      "cell_type": "code",
      "execution_count": null,
      "metadata": {
        "id": "6S6297CPRY5Z"
      },
      "outputs": [],
      "source": [
        "np.save('sf9_embeddings.npy', num)"
      ]
    },
    {
      "cell_type": "code",
      "execution_count": null,
      "metadata": {
        "id": "fCbcvC7pRY5a",
        "outputId": "a4b2c77a-f9a6-4af5-b8e2-cea0fc59acfb"
      },
      "outputs": [
        {
          "data": {
            "text/html": [
              "<div>\n",
              "<style scoped>\n",
              "    .dataframe tbody tr th:only-of-type {\n",
              "        vertical-align: middle;\n",
              "    }\n",
              "\n",
              "    .dataframe tbody tr th {\n",
              "        vertical-align: top;\n",
              "    }\n",
              "\n",
              "    .dataframe thead th {\n",
              "        text-align: right;\n",
              "    }\n",
              "</style>\n",
              "<table border=\"1\" class=\"dataframe\">\n",
              "  <thead>\n",
              "    <tr style=\"text-align: right;\">\n",
              "      <th></th>\n",
              "      <th>id</th>\n",
              "      <th>text</th>\n",
              "      <th>referenced_tweets</th>\n",
              "      <th>public_metrics</th>\n",
              "      <th>Text</th>\n",
              "      <th>cleaned_text</th>\n",
              "    </tr>\n",
              "  </thead>\n",
              "  <tbody>\n",
              "    <tr>\n",
              "      <th>0</th>\n",
              "      <td>1664410474233077760</td>\n",
              "      <td>Dear, Chu.\\n\\nPlease get well very soon. Black...</td>\n",
              "      <td>NaN</td>\n",
              "      <td>{'retweet_count': 0, 'reply_count': 0, 'like_c...</td>\n",
              "      <td>['dear', 'please', 'get', 'well', 'soon', 'wit...</td>\n",
              "      <td>dear please get well soon without without need...</td>\n",
              "    </tr>\n",
              "    <tr>\n",
              "      <th>1</th>\n",
              "      <td>1664150973038858240</td>\n",
              "      <td>@asoshiation Explain further coz i don't think...</td>\n",
              "      <td>[{'type': 'replied_to', 'id': '166414274279938...</td>\n",
              "      <td>{'retweet_count': 0, 'reply_count': 0, 'like_c...</td>\n",
              "      <td>['asoshiation', 'explain', 'coz', 'think', 'sm...</td>\n",
              "      <td>asoshiation explain coz think smart understand</td>\n",
              "    </tr>\n",
              "    <tr>\n",
              "      <th>2</th>\n",
              "      <td>1662086352597557249</td>\n",
              "      <td>And this why we always have to be kind to peop...</td>\n",
              "      <td>[{'type': 'quoted', 'id': '1662040234232811521'}]</td>\n",
              "      <td>{'retweet_count': 0, 'reply_count': 0, 'like_c...</td>\n",
              "      <td>['always', 'kind', 'people', 'know', 'go', 'ev...</td>\n",
              "      <td>always kind people know go everyday cried know...</td>\n",
              "    </tr>\n",
              "    <tr>\n",
              "      <th>3</th>\n",
              "      <td>1661599130987429890</td>\n",
              "      <td>Ppeu getting negatives because of these toxic ...</td>\n",
              "      <td>NaN</td>\n",
              "      <td>{'retweet_count': 0, 'reply_count': 0, 'like_c...</td>\n",
              "      <td>['ppeu', 'getting', 'negative', 'toxic', 'solo...</td>\n",
              "      <td>ppeu getting negative toxic solo stans now kno...</td>\n",
              "    </tr>\n",
              "    <tr>\n",
              "      <th>4</th>\n",
              "      <td>1660850307738263552</td>\n",
              "      <td>I don't care about ya'll!\\n\\nJENNIE RUBY JANE\\...</td>\n",
              "      <td>[{'type': 'quoted', 'id': '1660840070213955586'}]</td>\n",
              "      <td>{'retweet_count': 0, 'reply_count': 0, 'like_c...</td>\n",
              "      <td>['care', 'ya', 'll', 'ruby', 'jane', 'cannes',...</td>\n",
              "      <td>care ya ll ruby jane cannes festival jennieatc...</td>\n",
              "    </tr>\n",
              "    <tr>\n",
              "      <th>...</th>\n",
              "      <td>...</td>\n",
              "      <td>...</td>\n",
              "      <td>...</td>\n",
              "      <td>...</td>\n",
              "      <td>...</td>\n",
              "      <td>...</td>\n",
              "    </tr>\n",
              "    <tr>\n",
              "      <th>2768</th>\n",
              "      <td>1663415322035257344</td>\n",
              "      <td>Peys ribil (ril) don't let your heart fall for...</td>\n",
              "      <td>NaN</td>\n",
              "      <td>{'retweet_count': 0, 'reply_count': 10, 'like_...</td>\n",
              "      <td>['peys', 'ribil', 'ril', 'let', 'heart', 'fall...</td>\n",
              "      <td>peys ribil ril let heart fall link</td>\n",
              "    </tr>\n",
              "    <tr>\n",
              "      <th>2769</th>\n",
              "      <td>1661122645616738307</td>\n",
              "      <td>her: I miss you 🥺🥺🥺🥺\\n\\nwooly standing sprite:...</td>\n",
              "      <td>NaN</td>\n",
              "      <td>{'retweet_count': 1, 'reply_count': 0, 'like_c...</td>\n",
              "      <td>['miss', 'wooly', 'standing', 'sprite', 'link']</td>\n",
              "      <td>miss wooly standing sprite link</td>\n",
              "    </tr>\n",
              "    <tr>\n",
              "      <th>2770</th>\n",
              "      <td>1660984977587314689</td>\n",
              "      <td>Bro i miss ph sm😭</td>\n",
              "      <td>NaN</td>\n",
              "      <td>{'retweet_count': 0, 'reply_count': 0, 'like_c...</td>\n",
              "      <td>['bro', 'miss', 'ph']</td>\n",
              "      <td>bro miss ph</td>\n",
              "    </tr>\n",
              "    <tr>\n",
              "      <th>2771</th>\n",
              "      <td>1658716121472831488</td>\n",
              "      <td>this is challenging 😩 https://t.co/1jqcYc5qNf</td>\n",
              "      <td>NaN</td>\n",
              "      <td>{'retweet_count': 0, 'reply_count': 0, 'like_c...</td>\n",
              "      <td>['challenging', 'link']</td>\n",
              "      <td>challenging link</td>\n",
              "    </tr>\n",
              "    <tr>\n",
              "      <th>2772</th>\n",
              "      <td>1659230608567021569</td>\n",
              "      <td>@pannchoa I will always support you taennie 💕💖🫰</td>\n",
              "      <td>[{'type': 'replied_to', 'id': '165888966576270...</td>\n",
              "      <td>{'retweet_count': 0, 'reply_count': 0, 'like_c...</td>\n",
              "      <td>['pannchoa', 'will', 'always', 'support', 'tae...</td>\n",
              "      <td>pannchoa will always support taennie</td>\n",
              "    </tr>\n",
              "  </tbody>\n",
              "</table>\n",
              "<p>2773 rows × 6 columns</p>\n",
              "</div>"
            ],
            "text/plain": [
              "                       id                                               text   \n",
              "0     1664410474233077760  Dear, Chu.\\n\\nPlease get well very soon. Black...  \\\n",
              "1     1664150973038858240  @asoshiation Explain further coz i don't think...   \n",
              "2     1662086352597557249  And this why we always have to be kind to peop...   \n",
              "3     1661599130987429890  Ppeu getting negatives because of these toxic ...   \n",
              "4     1660850307738263552  I don't care about ya'll!\\n\\nJENNIE RUBY JANE\\...   \n",
              "...                   ...                                                ...   \n",
              "2768  1663415322035257344  Peys ribil (ril) don't let your heart fall for...   \n",
              "2769  1661122645616738307  her: I miss you 🥺🥺🥺🥺\\n\\nwooly standing sprite:...   \n",
              "2770  1660984977587314689                                  Bro i miss ph sm😭   \n",
              "2771  1658716121472831488      this is challenging 😩 https://t.co/1jqcYc5qNf   \n",
              "2772  1659230608567021569    @pannchoa I will always support you taennie 💕💖🫰   \n",
              "\n",
              "                                      referenced_tweets   \n",
              "0                                                   NaN  \\\n",
              "1     [{'type': 'replied_to', 'id': '166414274279938...   \n",
              "2     [{'type': 'quoted', 'id': '1662040234232811521'}]   \n",
              "3                                                   NaN   \n",
              "4     [{'type': 'quoted', 'id': '1660840070213955586'}]   \n",
              "...                                                 ...   \n",
              "2768                                                NaN   \n",
              "2769                                                NaN   \n",
              "2770                                                NaN   \n",
              "2771                                                NaN   \n",
              "2772  [{'type': 'replied_to', 'id': '165888966576270...   \n",
              "\n",
              "                                         public_metrics   \n",
              "0     {'retweet_count': 0, 'reply_count': 0, 'like_c...  \\\n",
              "1     {'retweet_count': 0, 'reply_count': 0, 'like_c...   \n",
              "2     {'retweet_count': 0, 'reply_count': 0, 'like_c...   \n",
              "3     {'retweet_count': 0, 'reply_count': 0, 'like_c...   \n",
              "4     {'retweet_count': 0, 'reply_count': 0, 'like_c...   \n",
              "...                                                 ...   \n",
              "2768  {'retweet_count': 0, 'reply_count': 10, 'like_...   \n",
              "2769  {'retweet_count': 1, 'reply_count': 0, 'like_c...   \n",
              "2770  {'retweet_count': 0, 'reply_count': 0, 'like_c...   \n",
              "2771  {'retweet_count': 0, 'reply_count': 0, 'like_c...   \n",
              "2772  {'retweet_count': 0, 'reply_count': 0, 'like_c...   \n",
              "\n",
              "                                                   Text   \n",
              "0     ['dear', 'please', 'get', 'well', 'soon', 'wit...  \\\n",
              "1     ['asoshiation', 'explain', 'coz', 'think', 'sm...   \n",
              "2     ['always', 'kind', 'people', 'know', 'go', 'ev...   \n",
              "3     ['ppeu', 'getting', 'negative', 'toxic', 'solo...   \n",
              "4     ['care', 'ya', 'll', 'ruby', 'jane', 'cannes',...   \n",
              "...                                                 ...   \n",
              "2768  ['peys', 'ribil', 'ril', 'let', 'heart', 'fall...   \n",
              "2769    ['miss', 'wooly', 'standing', 'sprite', 'link']   \n",
              "2770                              ['bro', 'miss', 'ph']   \n",
              "2771                            ['challenging', 'link']   \n",
              "2772  ['pannchoa', 'will', 'always', 'support', 'tae...   \n",
              "\n",
              "                                           cleaned_text  \n",
              "0     dear please get well soon without without need...  \n",
              "1        asoshiation explain coz think smart understand  \n",
              "2     always kind people know go everyday cried know...  \n",
              "3     ppeu getting negative toxic solo stans now kno...  \n",
              "4     care ya ll ruby jane cannes festival jennieatc...  \n",
              "...                                                 ...  \n",
              "2768                 peys ribil ril let heart fall link  \n",
              "2769                    miss wooly standing sprite link  \n",
              "2770                                        bro miss ph  \n",
              "2771                                   challenging link  \n",
              "2772               pannchoa will always support taennie  \n",
              "\n",
              "[2773 rows x 6 columns]"
            ]
          },
          "execution_count": 22,
          "metadata": {},
          "output_type": "execute_result"
        }
      ],
      "source": [
        "blackpink_df"
      ]
    },
    {
      "cell_type": "code",
      "execution_count": null,
      "metadata": {
        "id": "6U0MDmFORY5a"
      },
      "outputs": [],
      "source": [
        "blackpink_docs = list(blackpink_df['cleaned_text'])\n",
        "\n",
        "blackpink_texts = list(blackpink_df['Text'])"
      ]
    },
    {
      "cell_type": "code",
      "execution_count": null,
      "metadata": {
        "id": "mriaQjHfRY5a"
      },
      "outputs": [],
      "source": [
        "blackpink_batches = []\n",
        "for i in range(0, len(blackpink_texts), 128):\n",
        "    batch = blackpink_texts[i: i + 128]\n",
        "    blackpink_batches.append(batch)"
      ]
    },
    {
      "cell_type": "code",
      "execution_count": null,
      "metadata": {
        "id": "veUQ7ZyjRY5a",
        "outputId": "b5d1b403-d128-41e5-9366-fb587f317427"
      },
      "outputs": [
        {
          "data": {
            "text/plain": [
              "22"
            ]
          },
          "execution_count": 25,
          "metadata": {},
          "output_type": "execute_result"
        }
      ],
      "source": [
        "len(blackpink_batches)"
      ]
    },
    {
      "cell_type": "code",
      "execution_count": null,
      "metadata": {
        "id": "x-VOS6AcRY5a"
      },
      "outputs": [],
      "source": [
        "blackpink_embeddings = []\n",
        "\n",
        "for documents in blackpink_batches:\n",
        "  for doc in documents:\n",
        "    result = vo.embed(doc, model=\"voyage-large-2-instruct\", input_type=\"document\")\n",
        "    blackpink_embeddings.append(result.embeddings)\n",
        "    time.sleep(0.2)"
      ]
    },
    {
      "cell_type": "code",
      "execution_count": null,
      "metadata": {
        "id": "1NQJN8wFRY5a",
        "outputId": "c7ab5b68-7af0-4aba-93ed-dc275e421cee"
      },
      "outputs": [
        {
          "data": {
            "text/plain": [
              "2773"
            ]
          },
          "execution_count": 30,
          "metadata": {},
          "output_type": "execute_result"
        }
      ],
      "source": [
        "len(blackpink_embeddings)"
      ]
    },
    {
      "cell_type": "code",
      "execution_count": null,
      "metadata": {
        "id": "FqwU4o3gRY5a"
      },
      "outputs": [],
      "source": [
        "blackpink_num = np.array(blackpink_embeddings).reshape(len(blackpink_embeddings), -1)"
      ]
    },
    {
      "cell_type": "code",
      "execution_count": null,
      "metadata": {
        "id": "L4oOC_NqRY5a",
        "outputId": "83642b0e-773b-4a3d-81ca-f56156ea6e7e"
      },
      "outputs": [
        {
          "data": {
            "text/plain": [
              "(2773, 1024)"
            ]
          },
          "execution_count": 32,
          "metadata": {},
          "output_type": "execute_result"
        }
      ],
      "source": [
        "blackpink_num.shape"
      ]
    },
    {
      "cell_type": "code",
      "execution_count": null,
      "metadata": {
        "id": "0tVcZFwFRY5a"
      },
      "outputs": [],
      "source": [
        "np.save('/Users/gunpreetsingh/Gunpreet/UofG/DATA6700/code/new_embeddings_blackpink.npy', blackpink_num)\n"
      ]
    },
    {
      "cell_type": "code",
      "execution_count": null,
      "metadata": {
        "id": "KdWTv5SNRY5a"
      },
      "outputs": [],
      "source": [
        "sf9_docs = list(sf9_df['cleaned_text'])\n",
        "\n",
        "sf9_texts = list(sf9_df['Text'])"
      ]
    },
    {
      "cell_type": "code",
      "execution_count": null,
      "metadata": {
        "id": "9HPNH7nJRY5a"
      },
      "outputs": [],
      "source": [
        "sf9_batches = []\n",
        "for i in range(0, len(sf9_texts), 128):\n",
        "    batch = sf9_texts[i: i + 128]\n",
        "    sf9_batches.append(batch)"
      ]
    },
    {
      "cell_type": "code",
      "execution_count": null,
      "metadata": {
        "id": "Kk0AVuiYRY5b",
        "outputId": "6c424d38-0d97-433f-a4b2-b21d06df636c"
      },
      "outputs": [
        {
          "data": {
            "text/plain": [
              "28"
            ]
          },
          "execution_count": 36,
          "metadata": {},
          "output_type": "execute_result"
        }
      ],
      "source": [
        "len(sf9_batches)"
      ]
    },
    {
      "cell_type": "code",
      "execution_count": null,
      "metadata": {
        "id": "6O5oBjq2RY5b"
      },
      "outputs": [],
      "source": [
        "sf9_embeddings = []\n",
        "\n",
        "for documents in sf9_batches:\n",
        "  for doc in documents:\n",
        "    result = vo.embed(doc, model=\"voyage-large-2-instruct\", input_type=\"document\")\n",
        "    sf9_embeddings.append(result.embeddings)\n",
        "    time.sleep(0.2)"
      ]
    },
    {
      "cell_type": "code",
      "execution_count": null,
      "metadata": {
        "id": "63edGur3RY5b",
        "outputId": "8446d2c3-8aeb-4ec7-bb4e-b984ebcee9db"
      },
      "outputs": [
        {
          "data": {
            "text/plain": [
              "3536"
            ]
          },
          "execution_count": 40,
          "metadata": {},
          "output_type": "execute_result"
        }
      ],
      "source": [
        "len(sf9_embeddings)"
      ]
    },
    {
      "cell_type": "code",
      "execution_count": null,
      "metadata": {
        "id": "CXE8lBoSRY5b"
      },
      "outputs": [],
      "source": [
        "sf9_num = np.array(sf9_embeddings).reshape(len(sf9_embeddings), -1)\n"
      ]
    },
    {
      "cell_type": "code",
      "execution_count": null,
      "metadata": {
        "id": "f52PVZbIRY5b"
      },
      "outputs": [],
      "source": [
        "np.save('/Users/gunpreetsingh/Gunpreet/UofG/DATA6700/code/new_embeddings_sf9.npy', sf9_num)\n"
      ]
    },
    {
      "cell_type": "code",
      "execution_count": null,
      "metadata": {
        "id": "z2A7Yg3jRY5b"
      },
      "outputs": [],
      "source": []
    }
  ],
  "metadata": {
    "kernelspec": {
      "display_name": "Python 3",
      "name": "python3"
    },
    "language_info": {
      "codemirror_mode": {
        "name": "ipython",
        "version": 3
      },
      "file_extension": ".py",
      "mimetype": "text/x-python",
      "name": "python",
      "nbconvert_exporter": "python",
      "pygments_lexer": "ipython3",
      "version": "3.9.10"
    },
    "colab": {
      "provenance": [],
      "machine_shape": "hm"
    }
  },
  "nbformat": 4,
  "nbformat_minor": 0
}